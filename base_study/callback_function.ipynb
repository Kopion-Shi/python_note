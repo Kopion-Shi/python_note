{
 "cells": [
  {
   "cell_type": "markdown",
   "metadata": {
    "collapsed": true,
    "pycharm": {
     "name": "#%% md\n"
    }
   },
   "source": [
    "## 回调函数\n",
    "\n",
    "什么是回调函数\n",
    "当程序运行是，一般情况下，应用程序会时常通过API调用库里所预先备好的函数。但是有些库函数却要求应用先传给它一个函数，好在合适的时候调用，以完成目标任务。这个被传入的、后又被调用的函数就称为回调函数（callback function）。\n",
    "\n",
    "例如：\n",
    "有一家旅馆提供叫醒服务，但是要求旅客自己决定叫醒的方法。可以是打客房电话，也可以是派服务员去敲门，睡得死怕耽误事的，还可以要求往自己头上浇盆水。这里，“叫醒”这个行为是旅馆提供的，相当于库函数，但是叫醒的方式是由旅客决定并告诉旅馆的，也就是回调函数。而旅客告诉旅馆怎么叫醒自己的动作，也就是把回调函数传入库函数的动作，称为登记回调函数（to register a callback function）\n",
    "\n",
    "可以看到，回调函数通常和应用处于同一抽象层（因为传入什么样的回调函数是在应用级别决定的）。而回调就成了一个高层调用底层，底层再回过头来调用高层的过程。（我认为）这应该是回调最早的应用之处，也是其得名如此的原因。\n",
    "\n",
    "\n",
    "\n",
    "回调机制的优势\n",
    "回调机制提供了非常大的灵活性。我们把图中的库函数改称为中间函数了，这是因为回调并不仅仅用在应用和库之间。任何时候，只要想获得类似于上面情况的灵活性，都可以利用回调。有的同学可定想回调似乎只是函数间的调用，可以发现两者之间的一个关键的不同：\n",
    "\n",
    "在回调中，我们利用某种方式，把回调函数像参数一样传入中间函数。可以这么理解，在传入一个回调函数之前，中间函数是不完整的。\n",
    "换句话说，程序可以在运行时，通过登记不同的回调函数，来决定、改变中间函数的行为。\n",
    "这就比简单的函数调用要灵活太多了。\n"
   ]
  },
  {
   "cell_type": "code",
   "execution_count": 2,
   "outputs": [
    {
     "name": "stdout",
     "output_type": "stream",
     "text": [
      "3\n",
      "5\n",
      "9\n"
     ]
    }
   ],
   "source": [
    "#回调函数1\n",
    "#生成一个2k形式的偶数\n",
    "def double(x):\n",
    "    return x * 2\n",
    "\n",
    "#回调函数2\n",
    "#生成一个4k形式的偶数\n",
    "def quadruple(x):\n",
    "    return x * 4\n",
    "\n",
    "\n",
    "#中间函数\n",
    "#接受一个生成偶数的函数作为参数\n",
    "#返回一个奇数\n",
    "def getOddNumber(k, getEvenNumber):\n",
    "    return 1 + getEvenNumber(k)\n",
    "\n",
    "#起始函数，这里是程序的主函数\n",
    "def main():\n",
    "    k = 1\n",
    "    #当需要生成一个2k+1形式的奇数时\n",
    "    i = getOddNumber(k, double)\n",
    "    print(i)\n",
    "    #当需要一个4k+1形式的奇数时\n",
    "    i = getOddNumber(k, quadruple)\n",
    "    print(i)\n",
    "    #当需要一个8k+1形式的奇数时\n",
    "    i = getOddNumber(k, lambda x: x * 8)\n",
    "    print(i)\n",
    "\n",
    "if __name__ == \"__main__\":\n",
    "    main()"
   ],
   "metadata": {
    "collapsed": false,
    "pycharm": {
     "name": "#%%\n"
    }
   }
  },
  {
   "cell_type": "markdown",
   "source": [
    "#### 异步处理有关的回调函数"
   ],
   "metadata": {
    "collapsed": false,
    "pycharm": {
     "name": "#%% md\n"
    }
   }
  },
  {
   "cell_type": "code",
   "execution_count": 4,
   "outputs": [
    {
     "name": "stdout",
     "output_type": "stream",
     "text": [
      "5\n"
     ]
    }
   ],
   "source": [
    "def apply_ascyn(func, args, callback):\n",
    "    \"\"\"\n",
    "    func 函数的是处理的函数\n",
    "    args 表示的参数\n",
    "    callback 表示的函数处理完成后的 该执行的动作\n",
    "    \"\"\"\n",
    "    result = func(*args)\n",
    "    callback(result)\n",
    "\n",
    "def add(x, y):\n",
    "    return x + y\n",
    "\n",
    "def print_result(result):\n",
    "    print(result)\n",
    "\n",
    "apply_ascyn(add, (2, 3), callback=print_result)\n",
    "##这里print_result只能接收一个result的参数，不能传入其他信息。当想让回调函数访问其他变量或者特定环境的变量值的时候会遇到问题。"
   ],
   "metadata": {
    "collapsed": false,
    "pycharm": {
     "name": "#%%\n"
    }
   }
  },
  {
   "cell_type": "markdown",
   "source": [
    "#### 使用一个绑定方法来代替这个简单函数"
   ],
   "metadata": {
    "collapsed": false,
    "pycharm": {
     "name": "#%% md\n"
    }
   }
  },
  {
   "cell_type": "code",
   "execution_count": 6,
   "outputs": [
    {
     "name": "stdout",
     "output_type": "stream",
     "text": [
      "[1] Got: 5\n"
     ]
    }
   ],
   "source": [
    "def appy_async(func, args, *, callback):\n",
    "    result = func(*args)\n",
    "    #异步执行的函数 同时将执行后返回到这个早从这个函数跳出去\n",
    "    callback(result)\n",
    "\n",
    "def add(x ,y):\n",
    "    return x + y\n",
    "\n",
    "##绑定方法的类\n",
    "class ResultHandler(object):\n",
    "    def __init__(self):\n",
    "        self.sequence = 0\n",
    "\n",
    "    def handle(self, result):\n",
    "        self.sequence += 1\n",
    "        print(\"[{}] Got: {}\".format(self.sequence, result))\n",
    "\n",
    "resultHandler = ResultHandler()\n",
    "appy_async(add, (2,3), callback=resultHandler.handle)"
   ],
   "metadata": {
    "collapsed": false,
    "pycharm": {
     "name": "#%%\n"
    }
   }
  },
  {
   "cell_type": "markdown",
   "source": [
    "![jupyter](./img/20210912155646875.png)"
   ],
   "metadata": {
    "collapsed": false,
    "pycharm": {
     "name": "#%% md\n"
    }
   }
  },
  {
   "cell_type": "markdown",
   "source": [
    "#### 使用闭包函数"
   ],
   "metadata": {
    "collapsed": false,
    "pycharm": {
     "name": "#%% md\n"
    }
   }
  },
  {
   "cell_type": "code",
   "execution_count": 9,
   "outputs": [
    {
     "name": "stdout",
     "output_type": "stream",
     "text": [
      "[1] Got:5\n"
     ]
    }
   ],
   "source": [
    "def apply_async(func, args, *, callback):\n",
    "    result = func(*args)\n",
    "    callback(result)\n",
    "\n",
    "def add(x ,y):\n",
    "    return x + y\n",
    "\n",
    "def make_handler():\n",
    "    sequence = 0\n",
    "    def handler(result):\n",
    "        nonlocal sequence\n",
    "        sequence += 1\n",
    "        print(\"[{}] Got:{}\".format(sequence, result))\n",
    "    return handler\n",
    "\n",
    "handler = make_handler()\n",
    "apply_async(add, (2,3), callback=handler)"
   ],
   "metadata": {
    "collapsed": false,
    "pycharm": {
     "name": "#%%\n"
    }
   }
  },
  {
   "cell_type": "markdown",
   "source": [
    "#### 协程"
   ],
   "metadata": {
    "collapsed": false,
    "pycharm": {
     "name": "#%% md\n"
    }
   }
  },
  {
   "cell_type": "code",
   "execution_count": 11,
   "outputs": [
    {
     "name": "stdout",
     "output_type": "stream",
     "text": [
      "[1] Got:5\n"
     ]
    }
   ],
   "source": [
    "def apply_async(func, args, *, callback):\n",
    "    result = func(*args)\n",
    "    callback(result)\n",
    "\n",
    "def add(x, y):\n",
    "    return x + y\n",
    "\n",
    "def make_handler():\n",
    "    sequence = 0\n",
    "    while True:\n",
    "        result = yield\n",
    "        sequence += 1\n",
    "        print(\"[{}] Got:{}\".format(sequence, result))\n",
    "\n",
    "handle = make_handler()\n",
    "next(handle)\n",
    "\n",
    "apply_async(add, (2,3), callback=handle.send)"
   ],
   "metadata": {
    "collapsed": false,
    "pycharm": {
     "name": "#%%\n"
    }
   }
  },
  {
   "cell_type": "code",
   "execution_count": null,
   "outputs": [],
   "source": [],
   "metadata": {
    "collapsed": false,
    "pycharm": {
     "name": "#%%\n"
    }
   }
  }
 ],
 "metadata": {
  "kernelspec": {
   "display_name": "Python 3",
   "language": "python",
   "name": "python3"
  },
  "language_info": {
   "codemirror_mode": {
    "name": "ipython",
    "version": 2
   },
   "file_extension": ".py",
   "mimetype": "text/x-python",
   "name": "python",
   "nbconvert_exporter": "python",
   "pygments_lexer": "ipython2",
   "version": "2.7.6"
  }
 },
 "nbformat": 4,
 "nbformat_minor": 0
}