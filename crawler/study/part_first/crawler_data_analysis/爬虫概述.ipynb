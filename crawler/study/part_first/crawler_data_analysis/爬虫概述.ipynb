{
 "cells": [
  {
   "cell_type": "markdown",
   "source": [
    "### jupyter的基本使用"
   ],
   "metadata": {
    "collapsed": false,
    "pycharm": {
     "name": "#%% md\n"
    }
   }
  },
  {
   "cell_type": "markdown",
   "metadata": {
    "collapsed": true,
    "pycharm": {
     "name": "#%% md\n"
    }
   },
   "source": [
    "快捷键的使用：\n",
    "   - 插入cell：a,b\n",
    "   - 删除cell：x\n",
    "   - 执行cell: shift+enter\n",
    "   - 切换cell的模式：\n",
    "        - y:将markdown模式的cell切换为code模式\n",
    "        - m：将code模式切换为markdown\n",
    "   - 打开帮助文档\n",
    "        shift+tab"
   ]
  },
  {
   "cell_type": "markdown",
   "source": [
    "### 爬虫的相关概念\n",
    "- 爬虫：通过程序，让其模拟浏览器上网，然后去互联网上爬取数据的过程\n",
    "    - 模拟：浏览器就是一款天然的爬虫工具\n",
    "    - 抓取：抓取一张数据或者一张数据表的局部数据\n",
    "- 爬虫的分类：\n",
    "    - 通用爬虫：（数据的爬取）\n",
    "        - 抓取一整张页面的源码数据\n",
    "    - 聚焦爬虫：（数据的解析）\n",
    "        - 抓取局部的指定的数据，建立在通用爬虫的基础上的\n",
    "    - 增量式爬虫：（数据更新）\n",
    "        - 监测网站数据的更新情况 抓取完整最新更新出来的数据\n",
    "    - 分布式爬虫\n",
    "- 反爬机制\n",
    "    - 一些网站后台会设定相关的机制阻止爬虫程序进行数据的爬取，这些机制是网站设定的反爬机制\n",
    "- 反反爬策略\n",
    "    - 爬虫需要制定相关的的策略破解反爬机制，从而可以爬取到网站的数据\n",
    "- 第一个反爬机制：\n",
    "    - robots协议：存在于网站服务器的一个文本协议，指明盖完针中那些数据可以爬取，那哪些不可以爬取\n",
    "    -特点：防君子不防小人\n",
    "   ![](img/Snipaste_2023-04-02_13-57-46.png)\n"
   ],
   "metadata": {
    "collapsed": false,
    "pycharm": {
     "name": "#%% md\n"
    }
   }
  },
  {
   "cell_type": "markdown",
   "source": [
    "\n"
   ],
   "metadata": {
    "collapsed": false,
    "pycharm": {
     "name": "#%% md\n"
    }
   }
  }
 ],
 "metadata": {
  "kernelspec": {
   "display_name": "Python 3",
   "language": "python",
   "name": "python3"
  },
  "language_info": {
   "codemirror_mode": {
    "name": "ipython",
    "version": 2
   },
   "file_extension": ".py",
   "mimetype": "text/x-python",
   "name": "python",
   "nbconvert_exporter": "python",
   "pygments_lexer": "ipython2",
   "version": "2.7.6"
  }
 },
 "nbformat": 4,
 "nbformat_minor": 0
}