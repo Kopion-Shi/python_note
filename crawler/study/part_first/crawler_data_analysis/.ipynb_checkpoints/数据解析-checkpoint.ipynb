{
 "cells": [
  {
   "cell_type": "markdown",
   "metadata": {
    "collapsed": true,
    "pycharm": {
     "name": "#%% md\n"
    }
   },
   "source": [
    "# 数据解析\n",
    "    - 正则\n",
    "    - bs4\n",
    "    - xpath()重点\n",
    "    - pyquery（小众）"
   ]
  },
  {
   "cell_type": "markdown",
   "metadata": {
    "pycharm": {
     "name": "#%% md\n"
    }
   },
   "source": [
    "## bs4解析\n",
    " - 为什么需要在爬虫中使用数据解析\n",
    "    - 就是为了可以实现聚焦爬虫\n",
    " - 数据解析的通用原理是什么？（解析的数据只会存在于标签之间或者属性中）\n",
    "    - html 是用来展示数据的\n",
    "    - 数据的提取\n",
    " - bs4数据解析的原理/流程\n",
    "    - 实例化一个BeautifulSoup的对象，且将等待被解析的数据加载到该对象中\n",
    "        - 方法一：\n",
    "            - BeautifulSoup(fp,'lxml'):解析本地储存的html文件\n",
    "        - 方法二：\n",
    "            - BeautifulSoup(page_text,'lxml'):解析会联网上请求到的页面数据\n",
    "    - 调用BeautifulSoup对象中相关方法和属性进行标签的定位和数据的提取\n",
    " - 环境的安装\n",
    "    - pip install bs4\n",
    "    - pip install lxml\n"
   ]
  },
  {
   "cell_type": "markdown",
   "metadata": {},
   "source": [
    "- 标签定位\n",
    "    - soup.tagNmae：返回第一次出现的tagName的标签\n",
    "    - 属性定位：soup.find('tagNmae',attrName='Value')\n",
    "    - findall和find的用法一样，但是返回值不同\n",
    "    - 选择器定位：\n",
    "        - select('selector')"
   ]
  },
  {
   "cell_type": "code",
   "execution_count": 48,
   "metadata": {
    "pycharm": {
     "name": "#%%\n"
    }
   },
   "outputs": [],
   "source": [
    "import time\n",
    "\n",
    "from bs4 import BeautifulSoup"
   ]
  },
  {
   "cell_type": "code",
   "execution_count": 49,
   "metadata": {
    "pycharm": {
     "name": "#%%\n"
    }
   },
   "outputs": [
    {
     "name": "stdout",
     "output_type": "stream",
     "text": [
      "<!DOCTYPE HTML>\n",
      "<html>\n",
      "<head>\n",
      "<meta charset=\"utf-8\"/>\n",
      "<link href=\"//www.sogou.com/images/logo/new/favicon.ico?v=4\" rel=\"shortcut icon\" type=\"image/x-icon\"/>\n",
      "<title>搜狗搜索</title>\n",
      "<link href=\"static/css/anti.min.css?v=1\" rel=\"stylesheet\"/>\n",
      "<script src=\"//dlweb.sogoucdn.com/common/lib/jquery/jquery-1.11.0.min.js\"></script>\n",
      "<script src=\"static/js/antispider.min.js?v=3\"></script>\n",
      "<script>\n",
      "\n",
      "        var domain = getDomain();\n",
      "\n",
      "        window.imgCode = -1;\n",
      "\n",
      "\n",
      "\n",
      "        (function() {\n",
      "\n",
      "            function checkSNUID() {\n",
      "\n",
      "                var cookieArr = document.cookie.split('; '),\n",
      "\n",
      "                    count = 0;\n",
      "\n",
      "\n",
      "\n",
      "                for(var i = 0, len = cookieArr.length; i < len; i++) {\n",
      "\n",
      "                    if (cookieArr[i].indexOf('SNUID=') > -1) {\n",
      "\n",
      "                        count++;\n",
      "\n",
      "                    }\n",
      "\n",
      "                }\n",
      "\n",
      "\n",
      "\n",
      "                return count > 1;\n",
      "\n",
      "            }\n",
      "\n",
      "\n",
      "\n",
      "            if(checkSNUID()) {\n",
      "\n",
      "                var date = new Date(), expires;\n",
      "\n",
      "                date.setTime(date.getTime() -100000);\n",
      "\n",
      "\n",
      "\n",
      "                expires = date.toGMTString();\n",
      "\n",
      "\n",
      "\n",
      "                document.cookie = 'SNUID=1;path=/;expires=' + expires;\n",
      "\n",
      "                document.cookie = 'SNUID=1;path=/;expires=' + expires + ';domain=.www.sogo.com';\n",
      "\n",
      "                document.cookie = 'SNUID=1;path=/;expires=' + expires + ';domain=.weixin.sogo.com';\n",
      "\n",
      "                document.cookie = 'SNUID=1;path=/;expires=' + expires + ';domain=.sogo.com';\n",
      "\n",
      "                document.cookie = 'SNUID=1;path=/;expires=' + expires + ';domain=.www.sogou.com';\n",
      "\n",
      "                document.cookie = 'SNUID=1;path=/;expires=' + expires + ';domain=.weixin.sogou.com';\n",
      "\n",
      "                document.cookie = 'SNUID=1;path=/;expires=' + expires + ';domain=.sogou.com';\n",
      "\n",
      "                document.cookie = 'SNUID=1;path=/;expires=' + expires + ';domain=.snapshot.sogoucdn.com';\n",
      "\n",
      "                /*document.cookie = 'SNUID=1;path=/;expires=' + expires + ';domain=.zhinan.sogou.com';\n",
      "\n",
      "                document.cookie = 'SNUID=1;path=/;expires=' + expires + ';domain=.gouwu.sogou.com';\n",
      "\n",
      "                document.cookie = 'SNUID=1;path=/;expires=' + expires + ';domain=.ishop.sogou.com';*/\n",
      "\n",
      "\n",
      "\n",
      "                sendLog('delSNUID');\n",
      "\n",
      "            }\n",
      "\n",
      "\n",
      "\n",
      "            if(getCookie('seccodeRight') === 'success') {\n",
      "\n",
      "                sendLog('verifyLoop');\n",
      "\n",
      "\n",
      "\n",
      "                setCookie('seccodeRight', 1, getUTCString(-1), location.hostname, '/');\n",
      "\n",
      "            }\n",
      "\n",
      "\n",
      "\n",
      "            if(getCookie('refresh')) {\n",
      "\n",
      "                sendLog('refresh');\n",
      "\n",
      "            }\n",
      "\n",
      "        })();\n",
      "\n",
      "\n",
      "\n",
      "        function setImgCode(code) {\n",
      "\n",
      "            try {\n",
      "\n",
      "                var t = new Date().getTime() - imgRequestTime.getTime();\n",
      "\n",
      "                sendLog('imgCost',\"cost=\"+t);\n",
      "\n",
      "            } catch (e) {\n",
      "\n",
      "            }\n",
      "\n",
      "            window.imgCode = code;\n",
      "\n",
      "        }\n",
      "\n",
      "        sendLog('index');\n",
      "\n",
      "\n",
      "\n",
      "        function changeImg2() {\n",
      "\n",
      "        \tif(window.event) {\n",
      "\n",
      "        \t\twindow.event.returnValue=false\n",
      "\n",
      "        \t}\n",
      "\n",
      "        }\n",
      "\n",
      "        var suuid = \"5030e9fa-c761-4f07-813f-cb7267d3c167\";var auuid = \"967a8df0-b0a1-46c9-8ec6-c3167b785435\";    </script>\n",
      "</head>\n",
      "<body>\n",
      "<div class=\"header\">\n",
      "<div class=\"logo\">\n",
      "<a href=\"/\">\n",
      "<img height=\"60\" src=\"static/images/logo_180x60.png\" srcset=\"static/images/logo_180x60@2x.png 2x\" width=\"180\"/>\n",
      "</a>\n",
      "</div>\n",
      "<div class=\"other\"><span class=\"s1\">您的访问出错了</span><span class=\"s2\"><a href=\"/\">返回首页&gt;&gt;</a></span></div>\n",
      "</div>\n",
      "<div class=\"content-box\">\n",
      "<p class=\"ip-time-p\">IP：101.80.123.32<br/>访问时间：2023.04.05 10:18:36<br/>SourceVerifyCode：cb7267d3c167<br/>From：www.sogou.com</p>\n",
      "<p class=\"p2\">用户您好，我们的系统检测到您网络中存在异常访问请求。<br/>此验证码用于确认这些请求是您的正常行为而不是自动程序发出的，需要您协助验证。</p>\n",
      "<p class=\"p3\"><label for=\"seccodeInput\">验证码：</label></p>\n",
      "<form action=\"/\" id=\"seccodeForm\" method=\"POST\" name=\"authform\">\n",
      "<p class=\"p4\">\n",
      "<input autocomplete=\"off\" id=\"seccodeInput\" name=\"c\" placeholder=\"请输入验证码\" type=\"text\" value=\"\"/>\n",
      "<input id=\"tc\" name=\"tc\" type=\"hidden\" value=\"\"/>\n",
      "<input id=\"from\" name=\"r\" type=\"hidden\" value=\"%2Fweb%3Fquery%3D%E4%BA%BA%E6%B0%91\"/>\n",
      "<input id=\"product\" name=\"p\" type=\"hidden\" value=\"web_js\"/>\n",
      "<input name=\"m\" type=\"hidden\" value=\"f9ab5bf7a9587003b95025fada8f5ce5\"/> <span class=\"s1\">\n",
      "<script>imgRequestTime=new Date();</script>\n",
      "<a href=\"javascript:void(0)\" onclick=\"changeImg2();\">\n",
      "<img alt=\"请输入图中的验证码\" height=\"40\" id=\"seccodeImage\" onerror=\"setImgCode(0)\" onload=\"setImgCode(1)\" src=\"util/seccode.php?tc=1680661116\" title=\"请输入图中的验证码\" width=\"100\"/>\n",
      "</a>\n",
      "</span>\n",
      "<a href=\"javascript:void(0);\" id=\"change-img\" onclick=\"changeImg2();\" style=\"padding-left:50px;\">换一张</a>\n",
      "<span class=\"s2\" id=\"error-tips\" style=\"display: none;\"></span>\n",
      "</p>\n",
      "</form>\n",
      "<p class=\"p5\" id=\"sxl\">\n",
      "<a href=\"javascript:void(0);\" id=\"submit\">提交</a>\n",
      "<span>提交后没解决问题？欢迎<a href=\"http://fankui.help.sogou.com/index.php/web/web/index?type=10&amp;anti_time=1680661116&amp;domain=www.sogou.com\" target=\"_blank\">反馈</a>。</span>\n",
      "<!--span>提交后没解决问题？欢迎<a href=\"http://fankui.help.sogou.com/index.php/web/web/index?type=10&anti_time=1680661116&domain=www.sogou.com&verifycode=cb7267d3c167\" target=\"_blank\">反馈</a>。</span-->\n",
      "</p>\n",
      "</div>\n",
      "<div id=\"ft\"><a href=\"http://fuwu.sogou.com/\" target=\"_blank\">企业推广</a><a href=\"http://corp.sogou.com/\" target=\"_blank\">关于搜狗</a><a href=\"/docs/terms.htm?v=1\" target=\"_blank\">免责声明</a><a href=\"http://fankui.help.sogou.com/index.php/web/web/index?type=10&amp;anti_time=1680661116&amp;domain=www.sogou.com\" target=\"_blank\">意见反馈</a><br/> © 2023<span id=\"footer-year\"></span> Sogou Inc. - <a class=\"g\" href=\"http://www.miibeian.gov.cn\" target=\"_blank\">京ICP证050897号</a> - 京公网安备1100<span class=\"ba\">00000025号</span></div>\n",
      "<script src=\"static/js/index.min.js?v=0.1.5\"></script>\n",
      "</body>\n",
      "</html>\n",
      "<!--zly-->\n",
      "\n"
     ]
    }
   ],
   "source": [
    "#bs4中有哪些方法和属性可以被我们使用\n",
    "fp=open('./人民.html','r',encoding='utf-8')\n",
    "soup=BeautifulSoup(fp,'lxml')\n",
    "print(soup)"
   ]
  },
  {
   "cell_type": "code",
   "execution_count": 50,
   "metadata": {
    "pycharm": {
     "name": "#%%\n"
    }
   },
   "outputs": [
    {
     "data": {
      "text/plain": [
       "<div class=\"header\">\n",
       "<div class=\"logo\">\n",
       "<a href=\"/\">\n",
       "<img height=\"60\" src=\"static/images/logo_180x60.png\" srcset=\"static/images/logo_180x60@2x.png 2x\" width=\"180\"/>\n",
       "</a>\n",
       "</div>\n",
       "<div class=\"other\"><span class=\"s1\">您的访问出错了</span><span class=\"s2\"><a href=\"/\">返回首页&gt;&gt;</a></span></div>\n",
       "</div>"
      ]
     },
     "execution_count": 50,
     "metadata": {},
     "output_type": "execute_result"
    }
   ],
   "source": [
    "#标签的定位\n",
    "soup.div"
   ]
  },
  {
   "cell_type": "code",
   "execution_count": 51,
   "metadata": {
    "pycharm": {
     "name": "#%%\n"
    }
   },
   "outputs": [
    {
     "data": {
      "text/plain": [
       "<a href=\"/\">\n",
       "<img height=\"60\" src=\"static/images/logo_180x60.png\" srcset=\"static/images/logo_180x60@2x.png 2x\" width=\"180\"/>\n",
       "</a>"
      ]
     },
     "execution_count": 51,
     "metadata": {},
     "output_type": "execute_result"
    }
   ],
   "source": [
    "#属性的定位 根据属性定位具体的标签\n",
    "soup.find('div',class_='')\n",
    "soup.find('a',id='')"
   ]
  },
  {
   "cell_type": "code",
   "execution_count": 52,
   "metadata": {
    "pycharm": {
     "name": "#%%\n"
    }
   },
   "outputs": [
    {
     "data": {
      "text/plain": [
       "[<a class=\"g\" href=\"http://www.miibeian.gov.cn\" target=\"_blank\">京ICP证050897号</a>]"
      ]
     },
     "execution_count": 52,
     "metadata": {},
     "output_type": "execute_result"
    }
   ],
   "source": [
    "soup.findAll('a',class_='g')"
   ]
  },
  {
   "cell_type": "code",
   "execution_count": 53,
   "metadata": {
    "pycharm": {
     "name": "#%%\n"
    }
   },
   "outputs": [
    {
     "data": {
      "text/plain": [
       "[<p class=\"p5\" id=\"sxl\">\n",
       " <a href=\"javascript:void(0);\" id=\"submit\">提交</a>\n",
       " <span>提交后没解决问题？欢迎<a href=\"http://fankui.help.sogou.com/index.php/web/web/index?type=10&amp;anti_time=1680661116&amp;domain=www.sogou.com\" target=\"_blank\">反馈</a>。</span>\n",
       " <!--span>提交后没解决问题？欢迎<a href=\"http://fankui.help.sogou.com/index.php/web/web/index?type=10&anti_time=1680661116&domain=www.sogou.com&verifycode=cb7267d3c167\" target=\"_blank\">反馈</a>。</span-->\n",
       " </p>]"
      ]
     },
     "execution_count": 53,
     "metadata": {},
     "output_type": "execute_result"
    }
   ],
   "source": [
    "soup.select('#sxl')#根据id选择器定位a标签"
   ]
  },
  {
   "cell_type": "code",
   "execution_count": 54,
   "metadata": {
    "pycharm": {
     "name": "#%%\n"
    }
   },
   "outputs": [
    {
     "data": {
      "text/plain": [
       "[<a class=\"g\" href=\"http://www.miibeian.gov.cn\" target=\"_blank\">京ICP证050897号</a>]"
      ]
     },
     "execution_count": 54,
     "metadata": {},
     "output_type": "execute_result"
    }
   ],
   "source": [
    "soup.select('.g')#定位class为g的标签"
   ]
  },
  {
   "cell_type": "markdown",
   "metadata": {
    "pycharm": {
     "name": "#%% md\n"
    }
   },
   "source": [
    "层级选择器"
   ]
  },
  {
   "cell_type": "code",
   "execution_count": 55,
   "metadata": {
    "pycharm": {
     "name": "#%%\n"
    }
   },
   "outputs": [
    {
     "data": {
      "text/plain": [
       "[<a href=\"javascript:void(0);\" id=\"submit\">提交</a>]"
      ]
     },
     "execution_count": 55,
     "metadata": {},
     "output_type": "execute_result"
    }
   ],
   "source": [
    "soup.select('#sxl > a ')"
   ]
  },
  {
   "cell_type": "markdown",
   "metadata": {
    "pycharm": {
     "name": "#%% md\n"
    }
   },
   "source": [
    "- 数据的提取\n",
    "    - 提取标签中的存在的数据\n",
    "        - .string\n",
    "        - .text\n",
    "    - 提取标签属性中存储的数据\n",
    "        - tagName['attrName']"
   ]
  },
  {
   "cell_type": "code",
   "execution_count": 56,
   "metadata": {
    "pycharm": {
     "name": "#%%\n"
    }
   },
   "outputs": [
    {
     "data": {
      "text/plain": [
       "<div class=\"header\">\n",
       "<div class=\"logo\">\n",
       "<a href=\"/\">\n",
       "<img height=\"60\" src=\"static/images/logo_180x60.png\" srcset=\"static/images/logo_180x60@2x.png 2x\" width=\"180\"/>\n",
       "</a>\n",
       "</div>\n",
       "<div class=\"other\"><span class=\"s1\">您的访问出错了</span><span class=\"s2\"><a href=\"/\">返回首页&gt;&gt;</a></span></div>\n",
       "</div>"
      ]
     },
     "execution_count": 56,
     "metadata": {},
     "output_type": "execute_result"
    }
   ],
   "source": [
    "soup.div"
   ]
  },
  {
   "cell_type": "code",
   "execution_count": 57,
   "metadata": {
    "pycharm": {
     "name": "#%%\n"
    }
   },
   "outputs": [
    {
     "data": {
      "text/plain": [
       "'\\n\\n\\n\\n\\n\\n您的访问出错了返回首页>>\\n'"
      ]
     },
     "execution_count": 57,
     "metadata": {},
     "output_type": "execute_result"
    }
   ],
   "source": [
    "soup.div.text"
   ]
  },
  {
   "cell_type": "code",
   "execution_count": 58,
   "metadata": {
    "pycharm": {
     "name": "#%%\n"
    }
   },
   "outputs": [
    {
     "data": {
      "text/plain": [
       "<div class=\"header\">\n",
       "<div class=\"logo\">\n",
       "<a href=\"/\">\n",
       "<img height=\"60\" src=\"static/images/logo_180x60.png\" srcset=\"static/images/logo_180x60@2x.png 2x\" width=\"180\"/>\n",
       "</a>\n",
       "</div>\n",
       "<div class=\"other\"><span class=\"s1\">您的访问出错了</span><span class=\"s2\"><a href=\"/\">返回首页&gt;&gt;</a></span></div>\n",
       "</div>"
      ]
     },
     "execution_count": 58,
     "metadata": {},
     "output_type": "execute_result"
    }
   ],
   "source": [
    "soup.div"
   ]
  },
  {
   "cell_type": "code",
   "execution_count": 59,
   "metadata": {
    "pycharm": {
     "name": "#%%\n"
    }
   },
   "outputs": [],
   "source": [
    "soup.div.string"
   ]
  },
  {
   "cell_type": "code",
   "execution_count": 60,
   "metadata": {
    "pycharm": {
     "name": "#%%\n"
    }
   },
   "outputs": [
    {
     "data": {
      "text/plain": [
       "['header']"
      ]
     },
     "execution_count": 60,
     "metadata": {},
     "output_type": "execute_result"
    }
   ],
   "source": [
    "soup.div['class']"
   ]
  },
  {
   "cell_type": "markdown",
   "metadata": {
    "pycharm": {
     "name": "#%% md\n"
    }
   },
   "source": [
    "使用bs4解析爬取三国演义的整片小说的内容：https://www.shicimingju.com/book/sanguoyanyi.html\n",
    "\n",
    "流程分析：\n",
    "1. 获取页面\n",
    "2. 分析页面\n",
    "- 获取url和章节名称\n",
    "- 根据url和章节名称获取正文内容\n"
   ]
  },
  {
   "cell_type": "code",
   "execution_count": 63,
   "metadata": {
    "pycharm": {
     "name": "#%%\n"
    }
   },
   "outputs": [],
   "source": [
    "## 1. 获取首页\n",
    "\n",
    "import requests\n",
    "url = 'https://www.shicimingju.com/book/sanguoyanyi.html'\n",
    "header={\n",
    "    'user-agent':'Mozilla/5.0 (Windows NT 10.0; Win64; x64) AppleWebKit/537.36 (KHTML, like Gecko) Chrome/111.0.0.0 Safari/537.36'\n",
    "}\n",
    "\n",
    "page_index_text=requests.get(url=url,headers=header)\n",
    "page_index_text=page_index_text.text"
   ]
  },
  {
   "cell_type": "code",
   "execution_count": null,
   "metadata": {
    "pycharm": {
     "is_executing": true,
     "name": "#%%\n"
    }
   },
   "outputs": [],
   "source": [
    "#获取章节名称和对应的url\n",
    "import time\n",
    "soup=BeautifulSoup(page_index_text,'lxml')\n",
    "a_list=soup.select('.book-mulu > ul > li > a')\n",
    "with open('./sgyy.txt','w',encoding='utf-8')as f:\n",
    "    for a in a_list:\n",
    "        chapter_href='https://www.shicimingju.com/'+a['href']\n",
    "        chapter_title=a.text\n",
    "        # print('chapter_title:{},herf:{}'.format(chapter_title,chapter_href))\n",
    "        chapter_content=requests.get(chapter_href,headers=header)\n",
    "        chapter_content.encoding='utf-8'\n",
    "        chapter_content=chapter_content.text\n",
    "        # print(chapter_content)\n",
    "        soup=BeautifulSoup(chapter_content,'lxml')\n",
    "        chapter_text=soup.find('div',class_='chapter_content').text\n",
    "        f.write('{}\\n{}\\n'.format(chapter_title,chapter_text))\n",
    "print('over!!!!')"
   ]
  },
  {
   "cell_type": "markdown",
   "metadata": {
    "pycharm": {
     "name": "#%% md\n"
    }
   },
   "source": [
    "### xpath解析\n",
    "\n",
    "- html 标签\n",
    "    - 是一个树状的结构\n",
    "- xpath 解析原理\n",
    "    - 实例化一个etree对象，并且将被解析的数据加载到该对象中\n",
    "         - 解析本地储存的html对象\n",
    "            - etree.parase('fileName')\n",
    "         - 解析爬取到HTML数据\n",
    "            - etree.HTML(page_text)\n",
    "    - 使用etree对象中的xpath方法结合着不同xpath表达式实现标签定位和数据提取"
   ]
  },
  {
   "cell_type": "markdown",
   "metadata": {
    "pycharm": {
     "name": "#%% md\n"
    }
   },
   "source": [
    "#### xpath表达式\n",
    " - 标签定位\n",
    " - 数据提取"
   ]
  },
  {
   "cell_type": "code",
   "execution_count": 6,
   "metadata": {
    "pycharm": {
     "name": "#%%\n"
    }
   },
   "outputs": [],
   "source": [
    "from  lxml import etree"
   ]
  },
  {
   "cell_type": "code",
   "execution_count": 10,
   "metadata": {
    "pycharm": {
     "name": "#%%\n"
    }
   },
   "outputs": [
    {
     "ename": "XMLSyntaxError",
     "evalue": "EntityRef: expecting ';', line 16, column 81 (./sougou.html, line 16)",
     "output_type": "error",
     "traceback": [
      "Traceback \u001b[1;36m(most recent call last)\u001b[0m:\n",
      "\u001b[0m  File \u001b[0;32mD:\\001-software\\Anconda\\envs\\crawler\\lib\\site-packages\\IPython\\core\\interactiveshell.py:3505\u001b[0m in \u001b[0;35mrun_code\u001b[0m\n    exec(code_obj, self.user_global_ns, self.user_ns)\u001b[0m\n",
      "\u001b[0m  Cell \u001b[0;32mIn[10], line 1\u001b[0m\n    tree = etree.parse(r'./sougou.html')\u001b[0m\n",
      "\u001b[0m  File \u001b[0;32msrc\\lxml\\etree.pyx:3541\u001b[0m in \u001b[0;35mlxml.etree.parse\u001b[0m\n",
      "\u001b[0m  File \u001b[0;32msrc\\lxml\\parser.pxi:1879\u001b[0m in \u001b[0;35mlxml.etree._parseDocument\u001b[0m\n",
      "\u001b[0m  File \u001b[0;32msrc\\lxml\\parser.pxi:1905\u001b[0m in \u001b[0;35mlxml.etree._parseDocumentFromURL\u001b[0m\n",
      "\u001b[0m  File \u001b[0;32msrc\\lxml\\parser.pxi:1808\u001b[0m in \u001b[0;35mlxml.etree._parseDocFromFile\u001b[0m\n",
      "\u001b[0m  File \u001b[0;32msrc\\lxml\\parser.pxi:1180\u001b[0m in \u001b[0;35mlxml.etree._BaseParser._parseDocFromFile\u001b[0m\n",
      "\u001b[0m  File \u001b[0;32msrc\\lxml\\parser.pxi:618\u001b[0m in \u001b[0;35mlxml.etree._ParserContext._handleParseResultDoc\u001b[0m\n",
      "\u001b[0m  File \u001b[0;32msrc\\lxml\\parser.pxi:728\u001b[0m in \u001b[0;35mlxml.etree._handleParseResult\u001b[0m\n",
      "\u001b[1;36m  File \u001b[1;32msrc\\lxml\\parser.pxi:657\u001b[1;36m in \u001b[1;35mlxml.etree._raiseParseError\u001b[1;36m\n",
      "\u001b[1;36m  File \u001b[1;32m./sougou.html:16\u001b[1;36m\u001b[0m\n\u001b[1;33m    (new Image).src = [\"//pb.sogou.com/pv.gif?uigs_productid=wapapp&type=resource-error&stype=\", e, \"&timestamp=\", o, \"&protocol=\", r, \"&host=\", encodeURIComponent(a.location.host), \"&path=\", encodeURIComponent(a.location.pathname), \"&resource=\", encodeURIComponent(t)].join(\"\")\u001b[0m\n\u001b[1;37m                                                                       ^\u001b[0m\n\u001b[1;31mXMLSyntaxError\u001b[0m\u001b[1;31m:\u001b[0m EntityRef: expecting ';', line 16, column 81\n"
     ]
    }
   ],
   "source": [
    "tree = etree.parse(r'./sougou.html')"
   ]
  },
  {
   "cell_type": "code",
   "execution_count": null,
   "metadata": {
    "pycharm": {
     "name": "#%%\n"
    }
   },
   "outputs": [],
   "source": []
  }
 ],
 "metadata": {
  "kernelspec": {
   "display_name": "Python 3",
   "language": "python",
   "name": "python3"
  },
  "language_info": {
   "codemirror_mode": {
    "name": "ipython",
    "version": 2
   },
   "file_extension": ".py",
   "mimetype": "text/x-python",
   "name": "python",
   "nbconvert_exporter": "python",
   "pygments_lexer": "ipython2",
   "version": "2.7.6"
  }
 },
 "nbformat": 4,
 "nbformat_minor": 1
}
