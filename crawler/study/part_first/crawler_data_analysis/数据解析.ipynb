{
 "cells": [
  {
   "cell_type": "markdown",
   "metadata": {
    "pycharm": {
     "name": "#%% md\n"
    }
   },
   "source": [
    "## bs4解析\n",
    " - 为什么需要在爬虫中使用数据解析\n",
    "    - 就是为了可以实现聚焦爬虫\n",
    " - 数据解析的通用原理是什么？（解析的数据只会存在于标签之间或者属性中）\n",
    "    - html 是用来展示数据的\n",
    "    - 数据的提取\n",
    " - bs4数据解析的原理/流程\n",
    "    - 实例化一个BeautifulSoup的对象，且将等待被解析的数据加载到该对象中\n",
    "        - 方法一：\n",
    "            - BeautifulSoup(fp,'lxml'):解析本地储存的html文件\n",
    "        - 方法二：\n",
    "            - BeautifulSoup(page_text,'lxml'):解析会联网上请求到的页面数据\n",
    "    - 调用BeautifulSoup对象中相关方法和属性进行标签的定位和数据的提取\n",
    " - 环境的安装\n",
    "    - pip install bs4\n",
    "    - pip install lxml\n"
   ]
  },
  {
   "cell_type": "markdown",
   "metadata": {},
   "source": [
    "- 标签定位\n",
    "    - soup.tagNmae：返回第一次出现的tagName的标签\n",
    "    - 属性定位：soup.find('tagNmae',attrName='Value')\n",
    "    - findall和find的用法一样，但是返回值不同\n",
    "    - 选择器定位：\n",
    "        - select('selector')"
   ]
  },
  {
   "cell_type": "code",
   "execution_count": 48,
   "metadata": {
    "pycharm": {
     "name": "#%%\n"
    }
   },
   "outputs": [],
   "source": [
    "import os.path\n",
    "import time\n",
    "\n",
    "from bs4 import BeautifulSoup"
   ]
  },
  {
   "cell_type": "code",
   "execution_count": 49,
   "metadata": {
    "pycharm": {
     "name": "#%%\n"
    }
   },
   "outputs": [
    {
     "name": "stdout",
     "output_type": "stream",
     "text": [
      "<!DOCTYPE HTML>\n",
      "<html>\n",
      "<head>\n",
      "<meta charset=\"utf-8\"/>\n",
      "<link href=\"//www.sogou.com/images/logo/new/favicon.ico?v=4\" rel=\"shortcut icon\" type=\"image/x-icon\"/>\n",
      "<title>搜狗搜索</title>\n",
      "<link href=\"static/css/anti.min.css?v=1\" rel=\"stylesheet\"/>\n",
      "<script src=\"//dlweb.sogoucdn.com/common/lib/jquery/jquery-1.11.0.min.js\"></script>\n",
      "<script src=\"static/js/antispider.min.js?v=3\"></script>\n",
      "<script>\n",
      "\n",
      "        var domain = getDomain();\n",
      "\n",
      "        window.imgCode = -1;\n",
      "\n",
      "\n",
      "\n",
      "        (function() {\n",
      "\n",
      "            function checkSNUID() {\n",
      "\n",
      "                var cookieArr = document.cookie.split('; '),\n",
      "\n",
      "                    count = 0;\n",
      "\n",
      "\n",
      "\n",
      "                for(var i = 0, len = cookieArr.length; i < len; i++) {\n",
      "\n",
      "                    if (cookieArr[i].indexOf('SNUID=') > -1) {\n",
      "\n",
      "                        count++;\n",
      "\n",
      "                    }\n",
      "\n",
      "                }\n",
      "\n",
      "\n",
      "\n",
      "                return count > 1;\n",
      "\n",
      "            }\n",
      "\n",
      "\n",
      "\n",
      "            if(checkSNUID()) {\n",
      "\n",
      "                var date = new Date(), expires;\n",
      "\n",
      "                date.setTime(date.getTime() -100000);\n",
      "\n",
      "\n",
      "\n",
      "                expires = date.toGMTString();\n",
      "\n",
      "\n",
      "\n",
      "                document.cookie = 'SNUID=1;path=/;expires=' + expires;\n",
      "\n",
      "                document.cookie = 'SNUID=1;path=/;expires=' + expires + ';domain=.www.sogo.com';\n",
      "\n",
      "                document.cookie = 'SNUID=1;path=/;expires=' + expires + ';domain=.weixin.sogo.com';\n",
      "\n",
      "                document.cookie = 'SNUID=1;path=/;expires=' + expires + ';domain=.sogo.com';\n",
      "\n",
      "                document.cookie = 'SNUID=1;path=/;expires=' + expires + ';domain=.www.sogou.com';\n",
      "\n",
      "                document.cookie = 'SNUID=1;path=/;expires=' + expires + ';domain=.weixin.sogou.com';\n",
      "\n",
      "                document.cookie = 'SNUID=1;path=/;expires=' + expires + ';domain=.sogou.com';\n",
      "\n",
      "                document.cookie = 'SNUID=1;path=/;expires=' + expires + ';domain=.snapshot.sogoucdn.com';\n",
      "\n",
      "                /*document.cookie = 'SNUID=1;path=/;expires=' + expires + ';domain=.zhinan.sogou.com';\n",
      "\n",
      "                document.cookie = 'SNUID=1;path=/;expires=' + expires + ';domain=.gouwu.sogou.com';\n",
      "\n",
      "                document.cookie = 'SNUID=1;path=/;expires=' + expires + ';domain=.ishop.sogou.com';*/\n",
      "\n",
      "\n",
      "\n",
      "                sendLog('delSNUID');\n",
      "\n",
      "            }\n",
      "\n",
      "\n",
      "\n",
      "            if(getCookie('seccodeRight') === 'success') {\n",
      "\n",
      "                sendLog('verifyLoop');\n",
      "\n",
      "\n",
      "\n",
      "                setCookie('seccodeRight', 1, getUTCString(-1), location.hostname, '/');\n",
      "\n",
      "            }\n",
      "\n",
      "\n",
      "\n",
      "            if(getCookie('refresh')) {\n",
      "\n",
      "                sendLog('refresh');\n",
      "\n",
      "            }\n",
      "\n",
      "        })();\n",
      "\n",
      "\n",
      "\n",
      "        function setImgCode(code) {\n",
      "\n",
      "            try {\n",
      "\n",
      "                var t = new Date().getTime() - imgRequestTime.getTime();\n",
      "\n",
      "                sendLog('imgCost',\"cost=\"+t);\n",
      "\n",
      "            } catch (e) {\n",
      "\n",
      "            }\n",
      "\n",
      "            window.imgCode = code;\n",
      "\n",
      "        }\n",
      "\n",
      "        sendLog('index');\n",
      "\n",
      "\n",
      "\n",
      "        function changeImg2() {\n",
      "\n",
      "        \tif(window.event) {\n",
      "\n",
      "        \t\twindow.event.returnValue=false\n",
      "\n",
      "        \t}\n",
      "\n",
      "        }\n",
      "\n",
      "        var suuid = \"5030e9fa-c761-4f07-813f-cb7267d3c167\";var auuid = \"967a8df0-b0a1-46c9-8ec6-c3167b785435\";    </script>\n",
      "</head>\n",
      "<body>\n",
      "<div class=\"header\">\n",
      "<div class=\"logo\">\n",
      "<a href=\"/\">\n",
      "<img height=\"60\" src=\"static/images/logo_180x60.png\" srcset=\"static/images/logo_180x60@2x.png 2x\" width=\"180\"/>\n",
      "</a>\n",
      "</div>\n",
      "<div class=\"other\"><span class=\"s1\">您的访问出错了</span><span class=\"s2\"><a href=\"/\">返回首页&gt;&gt;</a></span></div>\n",
      "</div>\n",
      "<div class=\"content-box\">\n",
      "<p class=\"ip-time-p\">IP：101.80.123.32<br/>访问时间：2023.04.05 10:18:36<br/>SourceVerifyCode：cb7267d3c167<br/>From：www.sogou.com</p>\n",
      "<p class=\"p2\">用户您好，我们的系统检测到您网络中存在异常访问请求。<br/>此验证码用于确认这些请求是您的正常行为而不是自动程序发出的，需要您协助验证。</p>\n",
      "<p class=\"p3\"><label for=\"seccodeInput\">验证码：</label></p>\n",
      "<form action=\"/\" id=\"seccodeForm\" method=\"POST\" name=\"authform\">\n",
      "<p class=\"p4\">\n",
      "<input autocomplete=\"off\" id=\"seccodeInput\" name=\"c\" placeholder=\"请输入验证码\" type=\"text\" value=\"\"/>\n",
      "<input id=\"tc\" name=\"tc\" type=\"hidden\" value=\"\"/>\n",
      "<input id=\"from\" name=\"r\" type=\"hidden\" value=\"%2Fweb%3Fquery%3D%E4%BA%BA%E6%B0%91\"/>\n",
      "<input id=\"product\" name=\"p\" type=\"hidden\" value=\"web_js\"/>\n",
      "<input name=\"m\" type=\"hidden\" value=\"f9ab5bf7a9587003b95025fada8f5ce5\"/> <span class=\"s1\">\n",
      "<script>imgRequestTime=new Date();</script>\n",
      "<a href=\"javascript:void(0)\" onclick=\"changeImg2();\">\n",
      "<img alt=\"请输入图中的验证码\" height=\"40\" id=\"seccodeImage\" onerror=\"setImgCode(0)\" onload=\"setImgCode(1)\" src=\"util/seccode.php?tc=1680661116\" title=\"请输入图中的验证码\" width=\"100\"/>\n",
      "</a>\n",
      "</span>\n",
      "<a href=\"javascript:void(0);\" id=\"change-img\" onclick=\"changeImg2();\" style=\"padding-left:50px;\">换一张</a>\n",
      "<span class=\"s2\" id=\"error-tips\" style=\"display: none;\"></span>\n",
      "</p>\n",
      "</form>\n",
      "<p class=\"p5\" id=\"sxl\">\n",
      "<a href=\"javascript:void(0);\" id=\"submit\">提交</a>\n",
      "<span>提交后没解决问题？欢迎<a href=\"http://fankui.help.sogou.com/index.php/web/web/index?type=10&amp;anti_time=1680661116&amp;domain=www.sogou.com\" target=\"_blank\">反馈</a>。</span>\n",
      "<!--span>提交后没解决问题？欢迎<a href=\"http://fankui.help.sogou.com/index.php/web/web/index?type=10&anti_time=1680661116&domain=www.sogou.com&verifycode=cb7267d3c167\" target=\"_blank\">反馈</a>。</span-->\n",
      "</p>\n",
      "</div>\n",
      "<div id=\"ft\"><a href=\"http://fuwu.sogou.com/\" target=\"_blank\">企业推广</a><a href=\"http://corp.sogou.com/\" target=\"_blank\">关于搜狗</a><a href=\"/docs/terms.htm?v=1\" target=\"_blank\">免责声明</a><a href=\"http://fankui.help.sogou.com/index.php/web/web/index?type=10&amp;anti_time=1680661116&amp;domain=www.sogou.com\" target=\"_blank\">意见反馈</a><br/> © 2023<span id=\"footer-year\"></span> Sogou Inc. - <a class=\"g\" href=\"http://www.miibeian.gov.cn\" target=\"_blank\">京ICP证050897号</a> - 京公网安备1100<span class=\"ba\">00000025号</span></div>\n",
      "<script src=\"static/js/index.min.js?v=0.1.5\"></script>\n",
      "</body>\n",
      "</html>\n",
      "<!--zly-->\n",
      "\n"
     ]
    }
   ],
   "source": [
    "#bs4中有哪些方法和属性可以被我们使用\n",
    "fp=open('./人民.html','r',encoding='utf-8')\n",
    "soup=BeautifulSoup(fp,'lxml')\n",
    "print(soup)"
   ]
  },
  {
   "cell_type": "code",
   "execution_count": 50,
   "metadata": {
    "pycharm": {
     "name": "#%%\n"
    }
   },
   "outputs": [
    {
     "data": {
      "text/plain": [
       "<div class=\"header\">\n",
       "<div class=\"logo\">\n",
       "<a href=\"/\">\n",
       "<img height=\"60\" src=\"static/images/logo_180x60.png\" srcset=\"static/images/logo_180x60@2x.png 2x\" width=\"180\"/>\n",
       "</a>\n",
       "</div>\n",
       "<div class=\"other\"><span class=\"s1\">您的访问出错了</span><span class=\"s2\"><a href=\"/\">返回首页&gt;&gt;</a></span></div>\n",
       "</div>"
      ]
     },
     "execution_count": 50,
     "metadata": {},
     "output_type": "execute_result"
    }
   ],
   "source": [
    "#标签的定位\n",
    "soup.div"
   ]
  },
  {
   "cell_type": "code",
   "execution_count": 51,
   "metadata": {
    "pycharm": {
     "name": "#%%\n"
    }
   },
   "outputs": [
    {
     "data": {
      "text/plain": [
       "<a href=\"/\">\n",
       "<img height=\"60\" src=\"static/images/logo_180x60.png\" srcset=\"static/images/logo_180x60@2x.png 2x\" width=\"180\"/>\n",
       "</a>"
      ]
     },
     "execution_count": 51,
     "metadata": {},
     "output_type": "execute_result"
    }
   ],
   "source": [
    "#属性的定位 根据属性定位具体的标签\n",
    "soup.find('div',class_='')\n",
    "soup.find('a',id='')"
   ]
  },
  {
   "cell_type": "code",
   "execution_count": 52,
   "metadata": {
    "pycharm": {
     "name": "#%%\n"
    }
   },
   "outputs": [
    {
     "data": {
      "text/plain": [
       "[<a class=\"g\" href=\"http://www.miibeian.gov.cn\" target=\"_blank\">京ICP证050897号</a>]"
      ]
     },
     "execution_count": 52,
     "metadata": {},
     "output_type": "execute_result"
    }
   ],
   "source": [
    "soup.findAll('a',class_='g')"
   ]
  },
  {
   "cell_type": "code",
   "execution_count": 53,
   "metadata": {
    "pycharm": {
     "name": "#%%\n"
    }
   },
   "outputs": [
    {
     "data": {
      "text/plain": [
       "[<p class=\"p5\" id=\"sxl\">\n",
       " <a href=\"javascript:void(0);\" id=\"submit\">提交</a>\n",
       " <span>提交后没解决问题？欢迎<a href=\"http://fankui.help.sogou.com/index.php/web/web/index?type=10&amp;anti_time=1680661116&amp;domain=www.sogou.com\" target=\"_blank\">反馈</a>。</span>\n",
       " <!--span>提交后没解决问题？欢迎<a href=\"http://fankui.help.sogou.com/index.php/web/web/index?type=10&anti_time=1680661116&domain=www.sogou.com&verifycode=cb7267d3c167\" target=\"_blank\">反馈</a>。</span-->\n",
       " </p>]"
      ]
     },
     "execution_count": 53,
     "metadata": {},
     "output_type": "execute_result"
    }
   ],
   "source": [
    "soup.select('#sxl')#根据id选择器定位a标签"
   ]
  },
  {
   "cell_type": "code",
   "execution_count": 54,
   "metadata": {
    "pycharm": {
     "name": "#%%\n"
    }
   },
   "outputs": [
    {
     "data": {
      "text/plain": [
       "[<a class=\"g\" href=\"http://www.miibeian.gov.cn\" target=\"_blank\">京ICP证050897号</a>]"
      ]
     },
     "execution_count": 54,
     "metadata": {},
     "output_type": "execute_result"
    }
   ],
   "source": [
    "soup.select('.g')#定位class为g的标签"
   ]
  },
  {
   "cell_type": "markdown",
   "metadata": {
    "pycharm": {
     "name": "#%% md\n"
    }
   },
   "source": [
    "层级选择器"
   ]
  },
  {
   "cell_type": "code",
   "execution_count": 55,
   "metadata": {
    "pycharm": {
     "name": "#%%\n"
    }
   },
   "outputs": [
    {
     "data": {
      "text/plain": [
       "[<a href=\"javascript:void(0);\" id=\"submit\">提交</a>]"
      ]
     },
     "execution_count": 55,
     "metadata": {},
     "output_type": "execute_result"
    }
   ],
   "source": [
    "soup.select('#sxl > a ')"
   ]
  },
  {
   "cell_type": "markdown",
   "metadata": {
    "pycharm": {
     "name": "#%% md\n"
    }
   },
   "source": [
    "# 数据解析\n",
    "    - 正则\n",
    "    - bs4\n",
    "    - xpath()重点\n",
    "    - pyquery（小众）"
   ]
  },
  {
   "cell_type": "markdown",
   "source": [
    "- 数据的提取\n",
    "    - 提取标签中的存在的数据\n",
    "        - .string\n",
    "        - .text\n",
    "    - 提取标签属性中存储的数据\n",
    "        - tagName['attrName']"
   ],
   "metadata": {
    "collapsed": false
   }
  },
  {
   "cell_type": "code",
   "execution_count": 56,
   "metadata": {
    "pycharm": {
     "name": "#%%\n"
    }
   },
   "outputs": [
    {
     "data": {
      "text/plain": [
       "<div class=\"header\">\n",
       "<div class=\"logo\">\n",
       "<a href=\"/\">\n",
       "<img height=\"60\" src=\"static/images/logo_180x60.png\" srcset=\"static/images/logo_180x60@2x.png 2x\" width=\"180\"/>\n",
       "</a>\n",
       "</div>\n",
       "<div class=\"other\"><span class=\"s1\">您的访问出错了</span><span class=\"s2\"><a href=\"/\">返回首页&gt;&gt;</a></span></div>\n",
       "</div>"
      ]
     },
     "execution_count": 56,
     "metadata": {},
     "output_type": "execute_result"
    }
   ],
   "source": [
    "soup.div"
   ]
  },
  {
   "cell_type": "code",
   "execution_count": 57,
   "metadata": {
    "pycharm": {
     "name": "#%%\n"
    }
   },
   "outputs": [
    {
     "data": {
      "text/plain": [
       "'\\n\\n\\n\\n\\n\\n您的访问出错了返回首页>>\\n'"
      ]
     },
     "execution_count": 57,
     "metadata": {},
     "output_type": "execute_result"
    }
   ],
   "source": [
    "soup.div.text"
   ]
  },
  {
   "cell_type": "code",
   "execution_count": 58,
   "metadata": {
    "pycharm": {
     "name": "#%%\n"
    }
   },
   "outputs": [
    {
     "data": {
      "text/plain": [
       "<div class=\"header\">\n",
       "<div class=\"logo\">\n",
       "<a href=\"/\">\n",
       "<img height=\"60\" src=\"static/images/logo_180x60.png\" srcset=\"static/images/logo_180x60@2x.png 2x\" width=\"180\"/>\n",
       "</a>\n",
       "</div>\n",
       "<div class=\"other\"><span class=\"s1\">您的访问出错了</span><span class=\"s2\"><a href=\"/\">返回首页&gt;&gt;</a></span></div>\n",
       "</div>"
      ]
     },
     "execution_count": 58,
     "metadata": {},
     "output_type": "execute_result"
    }
   ],
   "source": [
    "soup.div"
   ]
  },
  {
   "cell_type": "code",
   "execution_count": 59,
   "metadata": {
    "pycharm": {
     "name": "#%%\n"
    }
   },
   "outputs": [],
   "source": [
    "soup.div.string"
   ]
  },
  {
   "cell_type": "code",
   "execution_count": 60,
   "metadata": {
    "pycharm": {
     "name": "#%%\n"
    }
   },
   "outputs": [
    {
     "data": {
      "text/plain": [
       "['header']"
      ]
     },
     "execution_count": 60,
     "metadata": {},
     "output_type": "execute_result"
    }
   ],
   "source": [
    "soup.div['class']"
   ]
  },
  {
   "cell_type": "markdown",
   "metadata": {
    "pycharm": {
     "name": "#%% md\n"
    }
   },
   "source": [
    "使用bs4解析爬取三国演义的整片小说的内容：https://www.shicimingju.com/book/sanguoyanyi.html\n",
    "\n",
    "流程分析：\n",
    "1. 获取页面\n",
    "2. 分析页面\n",
    "- 获取url和章节名称\n",
    "- 根据url和章节名称获取正文内容\n"
   ]
  },
  {
   "cell_type": "code",
   "execution_count": 63,
   "metadata": {
    "pycharm": {
     "name": "#%%\n"
    }
   },
   "outputs": [],
   "source": [
    "## 1. 获取首页\n",
    "\n",
    "import requests\n",
    "url = 'https://www.shicimingju.com/book/sanguoyanyi.html'\n",
    "header={\n",
    "    'user-agent':'Mozilla/5.0 (Windows NT 10.0; Win64; x64) AppleWebKit/537.36 (KHTML, like Gecko) Chrome/111.0.0.0 Safari/537.36'\n",
    "}\n",
    "\n",
    "page_index_text=requests.get(url=url,headers=header)\n",
    "page_index_text=page_index_text.text"
   ]
  },
  {
   "cell_type": "code",
   "execution_count": null,
   "metadata": {
    "pycharm": {
     "is_executing": true,
     "name": "#%%\n"
    }
   },
   "outputs": [],
   "source": [
    "#获取章节名称和对应的url\n",
    "import time\n",
    "soup=BeautifulSoup(page_index_text,'lxml')\n",
    "a_list=soup.select('.book-mulu > ul > li > a')\n",
    "with open('./sgyy.txt','w',encoding='utf-8')as f:\n",
    "    for a in a_list:\n",
    "        chapter_href='https://www.shicimingju.com/'+a['href']\n",
    "        chapter_title=a.text\n",
    "        # print('chapter_title:{},herf:{}'.format(chapter_title,chapter_href))\n",
    "        chapter_content=requests.get(chapter_href,headers=header)\n",
    "        chapter_content.encoding='utf-8'\n",
    "        chapter_content=chapter_content.text\n",
    "        # print(chapter_content)\n",
    "        soup=BeautifulSoup(chapter_content,'lxml')\n",
    "        chapter_text=soup.find('div',class_='chapter_content').text\n",
    "        f.write('{}\\n{}\\n'.format(chapter_title,chapter_text))\n",
    "print('over!!!!')"
   ]
  },
  {
   "cell_type": "markdown",
   "metadata": {
    "pycharm": {
     "name": "#%% md\n"
    }
   },
   "source": [
    "### xpath解析\n",
    "\n",
    "- html 标签\n",
    "    - 是一个树状的结构\n",
    "- xpath 解析原理\n",
    "    - 实例化一个etree对象，并且将被解析的数据加载到该对象中\n",
    "         - 解析本地储存的html对象\n",
    "            - etree.parase('fileName')\n",
    "         - 解析爬取到HTML数据\n",
    "            - etree.HTML(page_text)\n",
    "    - 使用etree对象中的xpath方法结合着不同xpath表达式实现标签定位和数据提取"
   ]
  },
  {
   "cell_type": "markdown",
   "metadata": {
    "pycharm": {
     "name": "#%% md\n"
    }
   },
   "source": [
    "#### xpath表达式\n",
    " - 标签定位\n",
    "    - 最左侧的/:必须从根标签开始逐层定位\n",
    "    - 非最左侧的/:表示一个层级\n",
    "    - 最左侧的//:从任意位置定义目标标签\n",
    "    - 非最左侧的//:表示多个层级\n",
    "    - 属性定位：//tagNmae[@ attrName='value']\n",
    "    - 索引定位：//tagNmae[index],index的索引是从1开始的\n",
    "    - 模糊匹配：\n",
    "        - //div[contains(@class,'ng')]定位到class属性值中包含ng的div标签\n",
    "        - // div[starts-with(@class,'ta']定位到class属性值中是一ta开头的div标签\n",
    " - 数据提取\n",
    "    - 取标签中的数据\n",
    "        - /text():直系文本内容\n",
    "        - //text():所有的文本内容\n",
    "    - 取属性的数据\n",
    "        - tagName/@attrName"
   ]
  },
  {
   "cell_type": "code",
   "execution_count": 30,
   "metadata": {
    "pycharm": {
     "name": "#%%\n"
    }
   },
   "outputs": [],
   "source": [
    "from  lxml import etree"
   ]
  },
  {
   "cell_type": "code",
   "execution_count": 31,
   "metadata": {
    "pycharm": {
     "name": "#%%\n"
    }
   },
   "outputs": [
    {
     "data": {
      "text/plain": "<lxml.etree._ElementTree at 0x20afa9ee880>"
     },
     "execution_count": 31,
     "metadata": {},
     "output_type": "execute_result"
    }
   ],
   "source": [
    "tree = etree.parse(r'./test.html')\n",
    "tree"
   ]
  },
  {
   "cell_type": "code",
   "execution_count": 32,
   "metadata": {
    "pycharm": {
     "name": "#%%\n"
    }
   },
   "outputs": [
    {
     "data": {
      "text/plain": "[]"
     },
     "execution_count": 32,
     "metadata": {},
     "output_type": "execute_result"
    }
   ],
   "source": [
    "tree.xpath('/html/head')#从head标签开始定位\n",
    "tree.xpath('//head')#将html文档中的所有的head标签定位到\n",
    "tree.xpath('/html//meta')"
   ]
  },
  {
   "cell_type": "code",
   "execution_count": 33,
   "outputs": [
    {
     "data": {
      "text/plain": "[<Element div at 0x20afa9ee3c0>]"
     },
     "execution_count": 33,
     "metadata": {},
     "output_type": "execute_result"
    }
   ],
   "source": [
    "tree.xpath('//div[ @ class=\"song\"]')"
   ],
   "metadata": {
    "collapsed": false,
    "pycharm": {
     "name": "#%%\n"
    }
   }
  },
  {
   "cell_type": "markdown",
   "source": [
    "需求：爬取https://pic.netbian.com/4kmeinv/中的图片"
   ],
   "metadata": {
    "collapsed": false,
    "pycharm": {
     "name": "#%% md\n"
    }
   }
  },
  {
   "cell_type": "code",
   "execution_count": 15,
   "outputs": [
    {
     "name": "stderr",
     "output_type": "stream",
     "text": [
      "It's a test:   0%|                                                                                                                                                                          | 0/10 [00:00<?, ?it/s]"
     ]
    },
    {
     "name": "stdout",
     "output_type": "stream",
     "text": [
      "清新 小仙女 绿色裙子 绿色丝带 养眼美腿 4k高清美女壁纸.jpg，下载完成\n",
      "厨房 居家 可爱美女 短发 白色袜子 4k壁纸.jpg，下载完成\n",
      "教室 JK制服美女 黑色丝袜 4k壁纸.jpg，下载完成\n",
      "海琴烟 同人 cosplay美女4K高清壁纸.jpg，下载完成\n",
      "绿色植物 清新养美胸美女4k壁纸3840x2160.jpg，下载完成\n",
      "cosplay美女 电脑桌 键盘 机房 可爱 小姐姐4k壁纸3840x2160.jpg，下载完成\n",
      "高颜值气质美女刘亦菲电脑壁纸4k超清全屏.jpg，下载完成\n",
      "刘亦菲 牛仔衣 小花裙子 去有风的地方剧照 4k美女壁纸.jpg，下载完成\n",
      "张钧甯 银光裙子 4k美女壁纸3840x2160.jpg，下载完成\n",
      "刘亦菲 牛仔衣 小花裙子 去有风的地方剧照 3440x1440带鱼屏壁纸.jpg，下载完成\n",
      "高山 户外 长发清纯美女4k壁纸.jpg，下载完成\n",
      "居家 甜美美女 长发 粉色毛衣 4k美女壁纸.jpg，下载完成\n",
      "长月烬明 白鹿剧照 4k美女壁纸.jpg，下载完成\n",
      "刘亦菲 长卷发 高颜值气质美女 3440x1440带鱼屏壁纸.jpg，下载完成\n",
      "长月烬明 白鹿古装剧照 4k美女电脑壁纸.jpg，下载完成\n",
      "民族风美女 树 美女风景4k壁纸.jpg，下载完成\n",
      "长月烬明 陈都灵剧照高清4k电脑壁纸.jpg，下载完成\n",
      "青春 可爱 女生 闭眼 百褶裙 白色裤袜 4k美女壁纸.jpg，下载完成\n",
      "刘亦菲 头纱 黑色裙子礼服 6k美女高清壁纸.jpg，下载完成\n"
     ]
    },
    {
     "name": "stderr",
     "output_type": "stream",
     "text": [
      "It's a test:  10%|████████████████▏                                                                                                                                                 | 1/10 [00:06<00:54,  6.10s/it]"
     ]
    },
    {
     "name": "stdout",
     "output_type": "stream",
     "text": [
      "清纯美女 白色 简单 居家 4k壁纸.jpg，下载完成\n"
     ]
    },
    {
     "name": "stderr",
     "output_type": "stream",
     "text": [
      "It's a test:  20%|████████████████████████████████▍                                                                                                                                 | 2/10 [00:06<00:21,  2.63s/it]"
     ]
    },
    {
     "name": "stdout",
     "output_type": "stream",
     "text": [
      "长发可爱美女 黑色毛衣包臀裙 美腿 5k高清壁纸.jpg，下载完成\n",
      "长发美女 白色裙子 背影 石头 唯美美女 4k壁纸.jpg，下载完成\n",
      "羽毛 鲜花 礼服裙子 美女 刘亦菲4k桌面壁纸.jpg，下载完成\n",
      "cosplay美女 个性 另类 高清4k电脑壁纸.jpg，下载完成\n",
      "小清新 粉色公主裙子美女 王秋紫4k壁纸.jpg，下载完成\n",
      "刘亦菲高颜值仙气美女4k高清壁纸.jpg，下载完成\n",
      "夏天 居家 桌子 美女 唯美 4k高清壁纸.jpg，下载完成\n",
      "刘亦菲时尚黑色皮衣裙子4k美女壁纸.jpg，下载完成\n",
      "古风美女 竹筏 纸伞 4k电脑壁纸.jpg，下载完成\n",
      "居家 清新 可爱 美女 毛衣 4k壁纸.jpg，下载完成\n",
      "刘亦菲 侧脸 美女 3440x1440带鱼屏壁纸.jpg，下载完成\n",
      "张予曦4k壁纸.jpg，下载完成\n",
      "女神节快乐 森林 坐在草地上的美女 手拿着鲜花 微笑 4k壁纸.jpg，下载完成\n",
      "美女 居家 休闲 杂志 3440x1440带鱼屏壁纸.jpg，下载完成\n",
      "古装 古风 踏青美女4k壁纸.jpg，下载完成\n",
      "公主 居家 沙发 花园 玫瑰花 清新 粉色裙子美女4k壁纸.jpg，下载完成\n",
      "家 花园 花 沙发 美女 粉色裙子 清新美女4k壁纸.jpg，下载完成\n",
      "春天 花 树 公主 养眼美女 漂亮裙子 4k壁纸.jpg，下载完成\n",
      "隆妮 黑色西装美女4k壁纸.jpg，下载完成\n"
     ]
    },
    {
     "name": "stderr",
     "output_type": "stream",
     "text": [
      "It's a test:  30%|████████████████████████████████████████████████▌                                                                                                                 | 3/10 [00:12<00:29,  4.24s/it]"
     ]
    },
    {
     "name": "stdout",
     "output_type": "stream",
     "text": [
      "王心凌4k超清壁纸.jpg，下载完成\n",
      "沙发 美女 白鹿 蓝色牛仔裤 4k壁纸.jpg，下载完成\n",
      "美女白鹿小清新白色裙子4k壁纸.jpg，下载完成\n",
      "隆妮高清4k壁纸.jpg，下载完成\n",
      "cosplay崩坏3美女5k壁纸.jpg，下载完成\n",
      "春天 古装 可爱美女 成果4k壁纸.jpg，下载完成\n",
      "舞蹈 简单 干净美女3440x1440带鱼屏壁纸.jpg，下载完成\n",
      "走廊 清新 美女 鞠婧祎 蝴蝶结 4k壁纸.jpg，下载完成\n",
      "鞠婧祎 花瓣 唯美 高清 美女 4k壁纸.jpg，下载完成\n",
      "芭蕾 舞蹈 简单 干净 美女4k壁纸.jpg，下载完成\n",
      "隆妮4k美女壁纸.jpg，下载完成\n",
      "隆妮4k壁纸.jpg，下载完成\n",
      "居家 厨房 可爱波波头短发美女 3440x1440带鱼屏壁纸.jpg，下载完成\n",
      "美女白鹿小清新3440x1440带鱼屏壁纸.jpg，下载完成\n",
      "去有风的地方剧照 刘亦菲 马 4k 美女 壁纸.jpg，下载完成\n",
      "李一桐 短裙 侧脸 唯美 摄影 4k 美女 壁纸.jpg，下载完成\n",
      "4k 居家 可爱 公主 女孩 美女 粉色裙子 电脑 壁纸.jpg，下载完成\n",
      "红衣古风美女4k壁纸.jpg，下载完成\n",
      "白色套装气质美女赵露思4k壁纸.jpg，下载完成\n",
      "古装 古风 美女 闭眼 头饰 饰品 4k壁纸.jpg，下载完成\n"
     ]
    },
    {
     "name": "stderr",
     "output_type": "stream",
     "text": [
      "It's a test:  40%|████████████████████████████████████████████████████████████████▊                                                                                                 | 4/10 [00:18<00:29,  4.99s/it]"
     ]
    },
    {
     "name": "stdout",
     "output_type": "stream",
     "text": [
      "居家 沙发 清纯 美女 美腿 白色袜子 4k 电脑 壁纸.jpg，下载完成\n",
      "鞠婧祎 小清新 蝴蝶结 唯美 4k 美女 壁纸.jpg，下载完成\n",
      "漂亮少数民族美女4k壁纸.jpg，下载完成\n",
      "古韵 气质 美女 美腿 古装 森系4k美女壁纸.jpg，下载完成\n",
      "4k 唯美 cosplay 逆水寒 古装 美女 壁纸.jpg，下载完成\n",
      "古力娜扎 包臀裙 美腿 绿色背景 苹果 4k壁纸.jpg，下载完成\n",
      "刘诗诗 素雅 清新 美女 4k壁纸.jpg，下载完成\n",
      "甜美微笑 双手合十 小清新 美女 白鹿 4k 高清 壁纸.jpg，下载完成\n",
      "王秋紫 秋意 唯美 4k 美女 壁纸.jpg，下载完成\n",
      "4k 刘亦菲 侧脸 夜晚 灯光 美女 壁纸.jpg，下载完成\n",
      "长发 清纯 美女 毛衣袜子 居家 床 温暖 圣诞节 4k 壁纸.jpg，下载完成\n",
      "4k 美女 毛衣裙子 居家 床 电脑壁纸.jpg，下载完成\n",
      "4k 刘亦菲去有风的地方剧照 桌面 壁纸.jpg，下载完成\n",
      "4k 赛博朋克风 美女 个性 高清 电脑 壁纸.jpg，下载完成\n",
      "刘亦菲 唯美 白色裙子 4k 桌面.jpg，下载完成\n",
      "赵丽颖 新年 红色裙子 喜庆 春节 美女 4k壁纸.jpg，下载完成\n",
      "4k 吴宣仪 高清 壁纸.jpg，下载完成\n",
      "吴宣仪 4k 美女 壁纸.jpg，下载完成\n",
      "李一桐 黑色裙子 桥 晚上 4k 美女 壁纸.jpg，下载完成\n",
      "晚上 护栏 美女 侧脸 李一桐 4k 桌面 壁纸.jpg，下载完成\n"
     ]
    },
    {
     "name": "stderr",
     "output_type": "stream",
     "text": [
      "It's a test:  50%|█████████████████████████████████████████████████████████████████████████████████                                                                                 | 5/10 [00:24<00:26,  5.26s/it]"
     ]
    },
    {
     "name": "stdout",
     "output_type": "stream",
     "text": [
      "晚上 桥 美女 李一桐 4k 壁纸.jpg，下载完成\n",
      "白色古装 古风 小仙女 刘亦菲 4k壁纸.jpg，下载完成\n",
      "4k 唯美 侧脸 美女 红色背景 白鹿 高清 壁纸.jpg，下载完成\n",
      "白鹿 侧脸 唯美 红色背景 4k壁纸.jpg，下载完成\n",
      "刘亦菲 白色衣服衬衫 去有风的地方 剧照 美女 4k 壁纸.jpg，下载完成\n",
      "徐璐 小清新 绿色草地 户外 美女 4k壁纸.jpg，下载完成\n",
      "刘亦菲 白色衣服 居家写真 高清 4k 壁纸.jpg，下载完成\n",
      "张天爱 黑色长裙 沙发 美女 4k壁纸.jpg，下载完成\n",
      "刘亦菲去有风的地方剧照 清新 美女 4k壁纸.jpg，下载完成\n",
      "宋昕冉 秋天 树叶 唯美 4k 美女 壁纸.jpg，下载完成\n",
      "cosplay 女学生 校服 黑色连裤袜 教室 美女 4k 高清 壁纸.jpg，下载完成\n",
      "陈瑶 黑天鹅 美女 4k 壁纸.jpg，下载完成\n",
      "4k 陈瑶 古风 美女 红色油纸伞 电脑 壁纸.jpg，下载完成\n",
      "赵露思 长裙子 唯美 5k美女壁纸.jpg，下载完成\n",
      "郑秀妍4k壁纸.jpg，下载完成\n",
      "美女 舞蹈 芭蕾舞 白色裙子 唯美 4k美女壁纸.jpg，下载完成\n",
      "居家 可爱美女 黑色毛衣连衣裙 美腿 4k壁纸.jpg，下载完成\n",
      "可爱居家美女 好看身材清纯美女 白色睡衣 白色长袜子 4k美女壁纸.jpg，下载完成\n",
      "好看居家美女 好看身材 养眼美腿 白色小睡衣 白袜子 公主床4k美女壁纸.jpg，下载完成\n",
      "鞠婧祎 黑色裙子 舞台 4k美女壁纸.jpg，下载完成\n"
     ]
    },
    {
     "name": "stderr",
     "output_type": "stream",
     "text": [
      "It's a test:  60%|█████████████████████████████████████████████████████████████████████████████████████████████████▏                                                                | 6/10 [00:30<00:22,  5.56s/it]"
     ]
    },
    {
     "name": "stdout",
     "output_type": "stream",
     "text": [
      "4k 赵露思 抹胸裙 小狗 黑色背景 美女 壁纸.jpg，下载完成\n",
      "红色衣服 古装 古风 美女 成果 4k壁纸.jpg，下载完成\n",
      "居家 沙发 美女 长发 美腿 白色毛衣 好看身材 4k 电脑 壁纸.jpg，下载完成\n",
      "4k 美女 可爱 模特 苗条身材 美腿 白色袜子 电脑 高清 壁纸.jpg，下载完成\n",
      "4k 冬天 清纯美女 长发 围巾 白色毛衣 高清 壁纸.jpg，下载完成\n",
      "赵露思黑白照4k壁纸.jpg，下载完成\n",
      "美女 周雨彤 白色裙子 礼服 美腿 椅子 室内 摄影 4k壁纸.jpg，下载完成\n",
      "郑秀妍 粉色裙子 唯美 3440x1440 带鱼屏壁纸.jpg，下载完成\n",
      "唯美 旗袍风 美女 4k 电脑 壁纸 3840x2160.jpg，下载完成\n",
      "王鸥 美女 鲜花 高清 4k壁纸.jpg，下载完成\n",
      "古风 古装 美女 河边 唯美 摄影 4k 电脑 壁纸.jpg，下载完成\n",
      "美女 4k 国风 气质 高清 漂亮裙子 伞 电脑壁纸.jpg，下载完成\n",
      "赵露思 长发 好看 侧脸 美女 5k 壁纸.jpg，下载完成\n",
      "汤梦佳 4k 壁纸.jpg，下载完成\n",
      "4k 国风 古风 戏曲 美女 唯美 电脑 壁纸.jpg，下载完成\n",
      "4K 美女 侧脸 唯美 古风 伞 山 古装 美女 高清 电脑壁纸.jpg，下载完成\n",
      "4k 逆水寒 青鸾 cosplay 美女 美腿 养眼 唯美 桌面 壁纸.jpg，下载完成\n",
      "4k 张钧甯 白色西装裙 好看养眼 美腿 美女 电脑 桌面 壁纸.jpg，下载完成\n",
      "4K 藏服 民族风 美女 电脑壁纸 3840x2160.jpg，下载完成\n",
      "4k 小清新 阳光 居家 美女壁纸.jpg，下载完成\n"
     ]
    },
    {
     "name": "stderr",
     "output_type": "stream",
     "text": [
      "It's a test:  70%|█████████████████████████████████████████████████████████████████████████████████████████████████████████████████▍                                                | 7/10 [00:36<00:17,  5.84s/it]"
     ]
    },
    {
     "name": "stdout",
     "output_type": "stream",
     "text": [
      "4k 清纯 可爱 美女 白色衣服 好看 电脑壁纸.jpg，下载完成\n",
      "鞠婧祎 黑色裙子 镜子 梳妆台 4k 美女 桌面 壁纸.jpg，下载完成\n",
      "4K 可爱 美女 梳妆台 镜子 鞠婧祎 黑色裙子 电脑 壁纸.jpg，下载完成\n",
      "唯美 古风 美女 侧脸 3440x1440 高清 桌面 壁纸.jpg，下载完成\n",
      "古装 古风 美女 清新 护眼 4k 壁纸.jpg，下载完成\n",
      "张钧甯 白色西装裙 好看美腿美女3440x1440 带鱼屏 壁纸.jpg，下载完成\n",
      "可爱圣诞美女 帽子 毛衣 雪花 高清4k壁纸.jpg，下载完成\n",
      "清新 可爱 清纯美女 居家 3440x1440 带鱼屏 壁纸.jpg，下载完成\n",
      "4k 美女 古风 长头发 头饰 唯美 侧脸 电脑壁纸.jpg，下载完成\n",
      "白鹿 红色古装 美女 4k 壁纸.jpg，下载完成\n",
      "古韵 书香 养眼 长发美女 闭眼 4k 电脑壁纸.jpg，下载完成\n",
      "粉色古装 古风 美女 长头发 4k 电脑 壁纸.jpg，下载完成\n",
      "4k 清纯美女 双手伸直 居家 养眼 可爱 桌面.jpg，下载完成\n",
      "唯美 粉色古装美女 花 户外 4k 电脑 壁纸.jpg，下载完成\n",
      "长发 粉色古装 美女 回头 4k 桌面壁纸.jpg，下载完成\n",
      "户外 唯美 好看古装美女 4k 壁纸.jpg，下载完成\n",
      "梳妆台 靓丽美女 鞠婧祎 黑色裙子 4k 电脑 高清 壁纸.jpg，下载完成\n",
      "白鹿 好看侧脸 古装 红色 4k 美女壁纸.jpg，下载完成\n",
      "4k 美女 白色古装 古风 小溪 瀑布 岩石 高清 壁纸.jpg，下载完成\n",
      "4k 高清 刘亦菲 看书 绿色草地 美女 护眼 电脑壁纸.jpg，下载完成\n"
     ]
    },
    {
     "name": "stderr",
     "output_type": "stream",
     "text": [
      "It's a test:  80%|█████████████████████████████████████████████████████████████████████████████████████████████████████████████████████████████████▌                                | 8/10 [00:43<00:11,  5.97s/it]"
     ]
    },
    {
     "name": "stdout",
     "output_type": "stream",
     "text": [
      "可爱 居家 女孩 画画 美女 4k 电脑壁纸.jpg，下载完成\n",
      "家居 可爱小姐姐 侧躺 好看身材4k美女壁纸.jpg，下载完成\n",
      "古风 居士 黑白 美女 壁纸 4k.jpg，下载完成\n",
      "小清新 清纯 美女 裙子 鲜花 树林 摄影 4k 电脑 壁纸 3840x2160.jpg，下载完成\n",
      "4k 周洁琼 木屋 鲜花 美女 壁纸 3840x2160.jpg，下载完成\n",
      "4k 元气 少女 摩托车 帅气 美女 电脑 壁纸.jpg，下载完成\n",
      "cosplay 原神 刻晴 小姐姐 白衬衫 黑色包臀裙 黑丝袜 4k美女壁纸.jpg，下载完成\n",
      "居家 沙发 好看衣服 短裙 好看身材美女美腿4k壁纸3840x2160.jpg，下载完成\n",
      "马凡舒 白色裙子 美女 4k 高清 壁纸.jpg，下载完成\n",
      "白色毛衣 长发 美女 潘白雪 4k 电脑 壁纸.jpg，下载完成\n",
      "4k 长发 居家 清纯美女 高清壁纸.jpg，下载完成\n",
      "白鹿 红色古装美女3440x1440 高清壁纸.jpg，下载完成\n",
      "4k 古装 古风 唯美 仰头美女壁纸.jpg，下载完成\n",
      "4k古风 纸伞 树林 简单 美女护眼壁纸.jpg，下载完成\n",
      "可爱长发美女孔雪儿4k壁纸3840x2160.jpg，下载完成\n",
      "孔雪儿 清纯护眼美女4k壁纸.jpg，下载完成\n",
      "芭蕾舞美女 好看身材 美腿 唯美4k美女壁纸.jpg，下载完成\n",
      "漂亮芭蕾舞美女4k壁纸.jpg，下载完成\n",
      "3440x1440 带鱼屏 居家 小清新 阳光 美女壁纸.jpg，下载完成\n",
      "cosplay阿狸 居家美女 兽耳 尾巴 4k美女电脑壁纸.jpg，下载完成\n"
     ]
    },
    {
     "name": "stderr",
     "output_type": "stream",
     "text": [
      "It's a test:  90%|█████████████████████████████████████████████████████████████████████████████████████████████████████████████████████████████████████████████████▊                | 9/10 [00:49<00:06,  6.16s/it]"
     ]
    },
    {
     "name": "stdout",
     "output_type": "stream",
     "text": [
      "中秋节 月亮 cos 嫦娥 美女唯美4k壁纸.jpg，下载完成\n",
      "韩雪 蝴蝶 4k超高清美女壁纸.jpg，下载完成\n",
      "古风 仙气美女 荷花塘4k壁纸.jpg，下载完成\n",
      "大波浪长发美女张婕婕4k电脑壁纸.jpg，下载完成\n",
      "漂亮气质美女高颜值美女张婕婕 4k壁纸.jpg，下载完成\n",
      "可爱美女模特张婕婕4k壁纸.jpg，下载完成\n",
      "伞 美女 王秋紫4k电脑壁纸.jpg，下载完成\n",
      "韩雪 蝴蝶不知身是梦3440x1440带鱼屏壁纸.jpg，下载完成\n",
      "虞书欣 苍兰诀4k电脑壁纸.jpg，下载完成\n",
      "林允儿 长头发 白色衬衫美女4k电脑壁纸3840x2160.jpg，下载完成\n",
      "林允儿 黑色裙子礼服美女4k壁纸.jpg，下载完成\n",
      "漂亮新娘 红色裙子 古装古风美女4k壁纸.jpg，下载完成\n",
      "cosplay 鬼刀 美女 红色裙子 饰品 4k美女壁纸3840x2160.jpg，下载完成\n",
      "架子鼓 吉他 清纯可爱短发美女4k壁纸.jpg，下载完成\n",
      "清纯美女回头 养眼好看美女4k壁纸3840x2160.jpg，下载完成\n",
      "居家沙发 女孩 清纯美女4k壁纸3840x2160.jpg，下载完成\n",
      "森林 美女 背影 好看美背美女4k壁纸3840x2160.jpg，下载完成\n",
      "清纯美女 嘴唇 手指 护眼美女高清4k壁纸.jpg，下载完成\n",
      "白色婚纱裙子 白色丝袜美腿美女4k壁纸.jpg，下载完成\n",
      "杨幂 绿色裙子美女4k壁纸.jpg，下载完成\n"
     ]
    },
    {
     "name": "stderr",
     "output_type": "stream",
     "text": [
      "It's a test: 100%|█████████████████████████████████████████████████████████████████████████████████████████████████████████████████████████████████████████████████████████████████| 10/10 [00:55<00:00,  5.58s/it]"
     ]
    },
    {
     "name": "stdout",
     "output_type": "stream",
     "text": [
      "杨幂 健身美女4k壁纸.jpg，下载完成\n"
     ]
    },
    {
     "name": "stderr",
     "output_type": "stream",
     "text": [
      "\n"
     ]
    }
   ],
   "source": [
    "\n",
    "import requests\n",
    "import os\n",
    "from  lxml import etree\n",
    "from tqdm import tqdm, trange\n",
    "header={\n",
    "    'user-agent':'Mozilla/5.0 (Windows NT 10.0; Win64; x64) AppleWebKit/537.36 (KHTML, like Gecko) Chrome/111.0.0.0 Safari/537.36'\n",
    "}\n",
    "def url(index):\n",
    "    url_list=list()\n",
    "    url_list.append('https://pic.netbian.com/4kmeinv/')\n",
    "    for i in range(1,index):\n",
    "        url_list.append('https://pic.netbian.com/4kmeinv/index_{}.html'.format(i))\n",
    "    return url_list\n",
    "for url in tqdm(url(10), desc='It\\'s a test'):\n",
    "# for url in:\n",
    "    page=requests.get(url=url,headers=header)\n",
    "    page.encoding='gbk'\n",
    "    page_text=page.text\n",
    "    # print(page_text)\n",
    "    tree=etree.HTML(page_text)\n",
    "    #获取到页面开始定位标签\n",
    "    li_list=tree.xpath('//div[@class=\"slist\"]/ul/li')\n",
    "    for li in li_list:\n",
    "        img_src='https://pic.netbian.com/'+li.xpath('./a/img/@src')[0]\n",
    "        img_name=li.xpath('./a/img/@alt')[0]+'.jpg'\n",
    "        img_data=requests.get(img_src,headers=header).content\n",
    "        file_path=os.path.join('/home/sxl/python_dev/python_study/crawler/study/part_first/crawler_data_analysis/img_meinv',img_name)\n",
    "        with open(file_path,'wb')as fp:\n",
    "            fp.write(img_data)\n",
    "        print('{}，下载完成'.format(img_name))"
   ],
   "metadata": {
    "collapsed": false,
    "pycharm": {
     "name": "#%%\n"
    }
   }
  },
  {
   "cell_type": "code",
   "execution_count": null,
   "outputs": [],
   "source": [],
   "metadata": {
    "collapsed": false,
    "pycharm": {
     "name": "#%%\n"
    }
   }
  },
  {
   "cell_type": "code",
   "execution_count": null,
   "outputs": [],
   "source": [],
   "metadata": {
    "collapsed": false,
    "pycharm": {
     "name": "#%%\n"
    }
   }
  }
 ],
 "metadata": {
  "kernelspec": {
   "display_name": "Python 3",
   "language": "python",
   "name": "python3"
  },
  "language_info": {
   "codemirror_mode": {
    "name": "ipython",
    "version": 2
   },
   "file_extension": ".py",
   "mimetype": "text/x-python",
   "name": "python",
   "nbconvert_exporter": "python",
   "pygments_lexer": "ipython2",
   "version": "2.7.6"
  }
 },
 "nbformat": 4,
 "nbformat_minor": 1
}