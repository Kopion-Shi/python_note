{
 "cells": [
  {
   "cell_type": "markdown",
   "metadata": {
    "collapsed": true,
    "pycharm": {
     "name": "#%% md\n"
    }
   },
   "source": [
    "# 异步爬虫\n",
    "    - 基于线程池的异步爬虫\n",
    "    - 基于多任务异步协程（重点）\n"
   ]
  },
  {
   "cell_type": "markdown",
   "source": [
    "## 线程池"
   ],
   "metadata": {
    "collapsed": false,
    "pycharm": {
     "name": "#%% md\n"
    }
   }
  },
  {
   "cell_type": "code",
   "execution_count": 2,
   "outputs": [
    {
     "name": "stdout",
     "output_type": "stream",
     "text": [
      "1271\n",
      "1271\n",
      "1271\n",
      "总耗时： -6.035472869873047\n"
     ]
    }
   ],
   "source": [
    "from multiprocessing.dummy import Pool #创建线程池\n",
    "import time\n",
    "import requests\n",
    "\n",
    "## 同步的代码\n",
    "urls=[\n",
    "    'http://127.0.0.1:5000/sxl',\n",
    "    'http://127.0.0.1:5000/bobo',\n",
    "    'http://127.0.0.1:5000/tom',\n",
    "]\n",
    "\n",
    "def get_request(url):\n",
    "    page_text=requests.get(url).text\n",
    "    print(len(page_text))\n",
    "\n",
    "if __name__==\"__main__\":\n",
    "    start=time.time()\n",
    "    for url in urls:\n",
    "        get_request(url)\n",
    "    print('总耗时：',time.time()-start)"
   ],
   "metadata": {
    "collapsed": false,
    "pycharm": {
     "name": "#%%\n"
    }
   }
  },
  {
   "cell_type": "code",
   "execution_count": 5,
   "outputs": [
    {
     "name": "stdout",
     "output_type": "stream",
     "text": [
      "[1271, 1271, 1271]\n",
      "总耗时： 4.0352561473846436\n"
     ]
    }
   ],
   "source": [
    "## 异步代码\n",
    "from multiprocessing.dummy import Pool #创建线程池\n",
    "import time\n",
    "import requests\n",
    "\n",
    "## 同步的代码\n",
    "urls=[\n",
    "    'http://127.0.0.1:5000/sxl',\n",
    "    'http://127.0.0.1:5000/bobo',\n",
    "    'http://127.0.0.1:5000/tom',\n",
    "]\n",
    "\n",
    "def get_request(url):\n",
    "    page_text=requests.get(url).text\n",
    "    return (len(page_text))\n",
    "\n",
    "if __name__==\"__main__\":\n",
    "    start=time.time()\n",
    "    pool=Pool(3)\n",
    "    page_text_list=pool.map(get_request,urls)\n",
    "    print(page_text_list)\n",
    "    ##参数1：回调函数\n",
    "    ## 参数2：可迭代的对象，alist\n",
    "    #作用：将alist中每一个元素一次传递回调函数作为参数，让后回调函数会异步对列表中的元素进行相关的操作\n",
    "    #map的返回值是回调函数返回的所有结果\n",
    "    print('总耗时：',time.time()-start)"
   ],
   "metadata": {
    "collapsed": false,
    "pycharm": {
     "name": "#%%\n"
    }
   }
  },
  {
   "cell_type": "markdown",
   "source": [
    "## 多任务异步协程[asyncio]\n",
    "    - 环境安装\n",
    "     - pip insatll asyncio\n",
    "    - 特殊函数\n",
    "     - 如果一个函数的定义被async关键字修饰，该函数就变成一个特殊函数\n",
    "     - 特殊之处\n",
    "        - 该函数调用之后(函数内部的实现语句)不会被[立即]执行\n",
    "        - 该函数被调用之后会返回一个协程对象\n",
    "    - 协程\n",
    "        - 对象，该对象是特殊的函数调用之后返回的协程对象\n",
    "        - 协程队形 == 特殊的函数\n",
    "        - 一个函数表示指定的一组操作，那么一个协程对象表示一组特定的操作\n",
    "        - 如何创建一个协程？\n",
    "            - 特殊函数的返回值\n",
    "    - 任务对象\n",
    "        - 就是一个高级的协程对象\n",
    "        - 任务对象==协程对象==特殊函数\n",
    "        - 任务对象==特殊函数\n",
    "        - 任务对象表示一组特定的操作\n",
    "        - 如何创建一个任务对象\n",
    "            - task=asynio.ensure_future(c) #c:协程对象\n",
    "    - 事件循环：EventLoop\n",
    "        - 对象\n",
    "        - 创建时间循环对象\n",
    "            loop=asyncio.get_event_loop()\n",
    "        - 作用：\n",
    "            - 用来装载任务\\协程对象\n",
    "                - 可以将事件循环当做一个容器，容器中存放的是多个任务对象\n",
    "            - 如果事件循环存放了多个任务对象且事件循环启动后，事件循环对象就可以异步的将每一个任务兑现对应的指定操作进行执行\n",
    "        - 任务对象储存且启动事件循环队形\n",
    "             - loop.run_util_complete(task)#将一个任务对象进行储存\n",
    "    - 问题：\n",
    "        - 事件循环启动后，任务对象对应的指定操作（特殊函数）已经被执行，但是如果这组指定的操作有返回值，如何获取返回值？\n",
    "            - 基于任务对象的回调函数\n",
    "            - 如何任务对象绑定回调函数\n",
    "                task.add_done_callback(parse)\n",
    "                parse就是回调函数\n",
    "                    parse必须有一个参数，参数：该函数的绑定者（任务对象）\n",
    "                    result()返回的就是特殊函数的返回值\n",
    "        - 如何确定任务对象在时间循环中是否是基于异步执行的？\n",
    "            -将多个任务对象注册到事件循环中进行测试\n",
    "    - wait()方法的作用：\n",
    "        - 表示挂起\n",
    "        - asyncio.wait(tasks)将任务列表中的每一个任务对象进行挂起\n",
    "        - 挂起：让当前的任务对象交出cpu的使用权\n",
    "- 注意事项：\n",
    "    在特殊函数内部不能出现不支持异步的模块，否则异步效果就会被中断\n",
    "- 支持异步网络请求的模块[aiohttp]\n",
    "    - 环境安装：pip install aiohttp\n",
    "    - aiohttp的编码的使用\n",
    "        - 大致的框架：\n",
    "            async def get_request(url):\n",
    "                async with aiohttp.ClientSession() as sess:\n",
    "                    async with  sess.get(url=url) as response:\n",
    "                        page_text= response.text()\n",
    "                        return page_text\n",
    "        - 补充细节：\n",
    "            - 在每个with 前面＋async关键字\n",
    "            - 在每个阻塞操作前+上一个await关键字\n",
    "          完整的代码：\n",
    "          async def get_request(url):\n",
    "            async with aiohttp.ClientSession() as sess:\n",
    "                async with await sess.get(url=url) as response:\n",
    "                    page_text= await response.text()\n",
    "                    return page_text\n",
    "            - await关键字可以确保在异步执行操作的过程中可以保证阻塞操作执行完毕\n",
    "- 实战说明：\n",
    "    - 异步操作的条件：\n",
    "        将待跑去的页面的url单独储存在一个list中\n",
    "    - 步骤：\n",
    "        - 用requests将待跑去页面的url获取\n",
    "        - 将url放入list中，使用多任务异步协程爬取列表中的页面数据"
   ],
   "metadata": {
    "collapsed": false,
    "pycharm": {
     "name": "#%% md\n"
    }
   }
  },
  {
   "cell_type": "code",
   "execution_count": 6,
   "outputs": [
    {
     "ename": "RuntimeError",
     "evalue": "This event loop is already running",
     "output_type": "error",
     "traceback": [
      "\u001B[1;31m---------------------------------------------------------------------------\u001B[0m",
      "\u001B[1;31mRuntimeError\u001B[0m                              Traceback (most recent call last)",
      "Cell \u001B[1;32mIn[6], line 35\u001B[0m\n\u001B[0;32m     33\u001B[0m loop\u001B[38;5;241m=\u001B[39masyncio\u001B[38;5;241m.\u001B[39mget_event_loop()\n\u001B[0;32m     34\u001B[0m \u001B[38;5;66;03m#将task'函数储存到eventloop中且启动该对象\u001B[39;00m\n\u001B[1;32m---> 35\u001B[0m \u001B[43mloop\u001B[49m\u001B[38;5;241;43m.\u001B[39;49m\u001B[43mrun_until_complete\u001B[49m\u001B[43m(\u001B[49m\u001B[43mtask\u001B[49m\u001B[43m)\u001B[49m\n",
      "File \u001B[1;32mD:\\001-software\\Anconda\\envs\\ps\\lib\\asyncio\\base_events.py:595\u001B[0m, in \u001B[0;36mBaseEventLoop.run_until_complete\u001B[1;34m(self, future)\u001B[0m\n\u001B[0;32m    593\u001B[0m future\u001B[38;5;241m.\u001B[39madd_done_callback(_run_until_complete_cb)\n\u001B[0;32m    594\u001B[0m \u001B[38;5;28;01mtry\u001B[39;00m:\n\u001B[1;32m--> 595\u001B[0m     \u001B[38;5;28;43mself\u001B[39;49m\u001B[38;5;241;43m.\u001B[39;49m\u001B[43mrun_forever\u001B[49m\u001B[43m(\u001B[49m\u001B[43m)\u001B[49m\n\u001B[0;32m    596\u001B[0m \u001B[38;5;28;01mexcept\u001B[39;00m:\n\u001B[0;32m    597\u001B[0m     \u001B[38;5;28;01mif\u001B[39;00m new_task \u001B[38;5;129;01mand\u001B[39;00m future\u001B[38;5;241m.\u001B[39mdone() \u001B[38;5;129;01mand\u001B[39;00m \u001B[38;5;129;01mnot\u001B[39;00m future\u001B[38;5;241m.\u001B[39mcancelled():\n\u001B[0;32m    598\u001B[0m         \u001B[38;5;66;03m# The coroutine raised a BaseException. Consume the exception\u001B[39;00m\n\u001B[0;32m    599\u001B[0m         \u001B[38;5;66;03m# to not log a warning, the caller doesn't have access to the\u001B[39;00m\n\u001B[0;32m    600\u001B[0m         \u001B[38;5;66;03m# local task.\u001B[39;00m\n",
      "File \u001B[1;32mD:\\001-software\\Anconda\\envs\\ps\\lib\\asyncio\\base_events.py:550\u001B[0m, in \u001B[0;36mBaseEventLoop.run_forever\u001B[1;34m(self)\u001B[0m\n\u001B[0;32m    548\u001B[0m \u001B[38;5;28mself\u001B[39m\u001B[38;5;241m.\u001B[39m_check_closed()\n\u001B[0;32m    549\u001B[0m \u001B[38;5;28;01mif\u001B[39;00m \u001B[38;5;28mself\u001B[39m\u001B[38;5;241m.\u001B[39mis_running():\n\u001B[1;32m--> 550\u001B[0m     \u001B[38;5;28;01mraise\u001B[39;00m \u001B[38;5;167;01mRuntimeError\u001B[39;00m(\u001B[38;5;124m'\u001B[39m\u001B[38;5;124mThis event loop is already running\u001B[39m\u001B[38;5;124m'\u001B[39m)\n\u001B[0;32m    551\u001B[0m \u001B[38;5;28;01mif\u001B[39;00m events\u001B[38;5;241m.\u001B[39m_get_running_loop() \u001B[38;5;129;01mis\u001B[39;00m \u001B[38;5;129;01mnot\u001B[39;00m \u001B[38;5;28;01mNone\u001B[39;00m:\n\u001B[0;32m    552\u001B[0m     \u001B[38;5;28;01mraise\u001B[39;00m \u001B[38;5;167;01mRuntimeError\u001B[39;00m(\n\u001B[0;32m    553\u001B[0m         \u001B[38;5;124m'\u001B[39m\u001B[38;5;124mCannot run the event loop while another loop is running\u001B[39m\u001B[38;5;124m'\u001B[39m)\n",
      "\u001B[1;31mRuntimeError\u001B[0m: This event loop is already running"
     ]
    }
   ],
   "source": [
    "import requests\n",
    "import asyncio\n",
    "import time\n",
    "\n",
    "urls=[\n",
    "    'http://127.0.0.1:5000/sxl',\n",
    "    'http://127.0.0.1:5000/bobo',\n",
    "    'http://127.0.0.1:5000/tom',\n",
    "]\n",
    "\n",
    "async def get_request(url):\n",
    "    print('get_request被调用！！！！')\n",
    "    page_text=requests.get(url).text\n",
    "    return page_text\n",
    "\n",
    "## 定义一个回调函数\n",
    "##注意：回调函数的必须有一个参数：该函数的绑定者\n",
    "def parse(task):\n",
    "    #.result（）特殊函数的返回值的获取方法\n",
    "    page_text=task.result()\n",
    "    print('i am task callback 特殊函数的返回值为：',page_text)\n",
    "\n",
    "if __name__==\"__main__\":\n",
    "    ##创建协程对象\n",
    "    c=get_request('http://127.0.0.1:5000/sxl')\n",
    "    ##创建任务对象（基于已有的协程对象创建任务对象）\n",
    "    task=asyncio.ensure_future(c)\n",
    "    #给该任务对象绑定一个回调函数\n",
    "    task.add_done_callback(parse)\n",
    "\n",
    "\n",
    "    ##创建一个事件循序对象\n",
    "    loop=asyncio.get_event_loop()\n",
    "    #将task'函数储存到eventloop中且启动该对象\n",
    "    loop.run_until_complete(task)"
   ],
   "metadata": {
    "collapsed": false,
    "pycharm": {
     "name": "#%%\n"
    }
   }
  },
  {
   "cell_type": "code",
   "execution_count": 13,
   "outputs": [
    {
     "name": "stdout",
     "output_type": "stream",
     "text": [
      "callback function\n",
      "i am task callback 特殊函数的返回值为： 1271\n",
      "callback function\n",
      "i am task callback 特殊函数的返回值为： 1271\n",
      "callback function\n",
      "i am task callback 特殊函数的返回值为： 1271\n",
      "run time: 2.0192654132843018\n"
     ]
    }
   ],
   "source": [
    "## 多任务协程\n",
    "import requests\n",
    "import asyncio\n",
    "import time\n",
    "import nest_asyncio\n",
    "nest_asyncio.apply()\n",
    "import aiohttp\n",
    "urls = [\n",
    "    'http://127.0.0.1:5000/sxl',\n",
    "    'http://127.0.0.1:5000/bobo',\n",
    "    'http://127.0.0.1:5000/tom',\n",
    "]\n",
    "\n",
    "\n",
    "# async def get_request(url):\n",
    "#     print('get_request被调用！！！！')\n",
    "#     page_text = requests.get(url).text\n",
    "#     return page_text\n",
    "\n",
    "##特殊函数：不可以出现不支持异步模块的代码出现，不可以使用requests模块\n",
    "async def get_request(url):\n",
    "    #使用aiohttp进行网络请求\n",
    "    async with aiohttp.ClientSession() as sess:#实例化一个请求对象叫做sess\n",
    "        #sess.get(url，header，params,proxy)\n",
    "        #sess.post(url，header，data,proxy)\n",
    "        #proxy参数的用法和requests不一样，剩下的参数和requests的用法不一样\n",
    "        #proxy=\"http\"//ip:port\"\n",
    "        async with await sess.get(url=url) as response:#调用get发请求\n",
    "            ##text()返回字符串形式的响应的数据\n",
    "            ##reader()返回bytes类型的响应的数据\n",
    "            page_text=await response.text()#获取源码的数据\n",
    "            return page_text\n",
    "\n",
    "\n",
    "## 定义一个回调函数\n",
    "##注意：回调函数的必须有一个参数：该函数的绑定者\n",
    "##多任务的异步爬虫中的数据解析或者持久化储存的操作序需要放在回调函数中\n",
    "def parse(task):\n",
    "    #.result（）特殊函数的返回值的获取方法\n",
    "    page_text = task.result()\n",
    "    print('callback function')\n",
    "    print('i am task callback 特殊函数的返回值为：', len(page_text))\n",
    "\n",
    "\n",
    "if __name__ == \"__main__\":\n",
    "    tasks=list()\n",
    "    start=time.time()\n",
    "    for url in urls:\n",
    "        ##创建协程对象\n",
    "        c = get_request(url)\n",
    "        ##创建任务对象（基于已有的协程对象创建任务对象）\n",
    "        task = asyncio.ensure_future(c)\n",
    "        #给该任务对象绑定一个回调函数\n",
    "        task.add_done_callback(parse)\n",
    "        tasks.append(task)\n",
    "\n",
    "    ##创建一个事件循序对象\n",
    "    loop = asyncio.get_event_loop()\n",
    "    #将task'函数储存到eventloop中且启动该对象\n",
    "    loop.run_until_complete(asyncio.wait(tasks))\n",
    "    print('run time:',time.time()-start)"
   ],
   "metadata": {
    "collapsed": false,
    "pycharm": {
     "name": "#%%\n"
    }
   }
  },
  {
   "cell_type": "code",
   "execution_count": null,
   "outputs": [],
   "source": [],
   "metadata": {
    "collapsed": false,
    "pycharm": {
     "name": "#%%\n"
    }
   }
  }
 ],
 "metadata": {
  "kernelspec": {
   "display_name": "Python 3",
   "language": "python",
   "name": "python3"
  },
  "language_info": {
   "codemirror_mode": {
    "name": "ipython",
    "version": 2
   },
   "file_extension": ".py",
   "mimetype": "text/x-python",
   "name": "python",
   "nbconvert_exporter": "python",
   "pygments_lexer": "ipython2",
   "version": "2.7.6"
  }
 },
 "nbformat": 4,
 "nbformat_minor": 0
}